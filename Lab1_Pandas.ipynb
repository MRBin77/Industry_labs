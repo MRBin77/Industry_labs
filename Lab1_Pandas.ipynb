{
  "nbformat": 4,
  "nbformat_minor": 0,
  "metadata": {
    "kernelspec": {
      "display_name": "Python 3",
      "language": "python",
      "name": "python3"
    },
    "language_info": {
      "codemirror_mode": {
        "name": "ipython",
        "version": 3
      },
      "file_extension": ".py",
      "mimetype": "text/x-python",
      "name": "python",
      "nbconvert_exporter": "python",
      "pygments_lexer": "ipython3",
      "version": "3.6.4"
    },
    "colab": {
      "name": "Lab1_Pandas.ipynb",
      "provenance": [],
      "collapsed_sections": [],
      "include_colab_link": true
    }
  },
  "cells": [
    {
      "cell_type": "markdown",
      "metadata": {
        "id": "view-in-github",
        "colab_type": "text"
      },
      "source": [
        "<a href=\"https://colab.research.google.com/github/MRBin77/Industry_labs/blob/master/Lab1_Pandas.ipynb\" target=\"_parent\"><img src=\"https://colab.research.google.com/assets/colab-badge.svg\" alt=\"Open In Colab\"/></a>"
      ]
    },
    {
      "cell_type": "code",
      "metadata": {
        "id": "fTfWxcTUUbvl",
        "colab_type": "code",
        "colab": {}
      },
      "source": [
        "from google.colab import drive \n",
        "drive.mount('/content/gdrive')"
      ],
      "execution_count": 0,
      "outputs": []
    },
    {
      "cell_type": "code",
      "metadata": {
        "id": "lZEqLGmqh42L",
        "colab_type": "code",
        "colab": {}
      },
      "source": [
        "%matplotlib inline\n",
        "import numpy as np\n",
        "import pandas as pd\n",
        "import matplotlib.pyplot as plt\n",
        "\n",
        "pd.options.display.max_rows = 8"
      ],
      "execution_count": 0,
      "outputs": []
    },
    {
      "cell_type": "markdown",
      "metadata": {
        "id": "opjvcdgwUQd1",
        "colab_type": "text"
      },
      "source": [
        "# Фильтрация и сортировка данных"
      ]
    },
    {
      "cell_type": "markdown",
      "metadata": {
        "id": "3z5DxntNUQd7",
        "colab_type": "text"
      },
      "source": [
        "Импортируйте данные `Euro_2012_stats_TEAM.csv` и присвойте переменной $euro12$"
      ]
    },
    {
      "cell_type": "code",
      "metadata": {
        "id": "vuD1ltBSUQeA",
        "colab_type": "code",
        "outputId": "26a2e8ef-8ca7-4963-a9c7-16cb3fbad7da",
        "colab": {
          "base_uri": "https://localhost:8080/",
          "height": 296
        }
      },
      "source": [
        "euro12 = pd.read_csv(\"gdrive/My Drive/Labs_Industry/data/Euro_2012_stats_TEAM.csv\", sep=\",\")\n",
        "euro12.head()"
      ],
      "execution_count": 0,
      "outputs": [
        {
          "output_type": "execute_result",
          "data": {
            "text/html": [
              "<div>\n",
              "<style scoped>\n",
              "    .dataframe tbody tr th:only-of-type {\n",
              "        vertical-align: middle;\n",
              "    }\n",
              "\n",
              "    .dataframe tbody tr th {\n",
              "        vertical-align: top;\n",
              "    }\n",
              "\n",
              "    .dataframe thead th {\n",
              "        text-align: right;\n",
              "    }\n",
              "</style>\n",
              "<table border=\"1\" class=\"dataframe\">\n",
              "  <thead>\n",
              "    <tr style=\"text-align: right;\">\n",
              "      <th></th>\n",
              "      <th>Team</th>\n",
              "      <th>Goals</th>\n",
              "      <th>Shots on target</th>\n",
              "      <th>Shots off target</th>\n",
              "      <th>Shooting Accuracy</th>\n",
              "      <th>% Goals-to-shots</th>\n",
              "      <th>Total shots (inc. Blocked)</th>\n",
              "      <th>Hit Woodwork</th>\n",
              "      <th>Penalty goals</th>\n",
              "      <th>Penalties not scored</th>\n",
              "      <th>Headed goals</th>\n",
              "      <th>Passes</th>\n",
              "      <th>Passes completed</th>\n",
              "      <th>Passing Accuracy</th>\n",
              "      <th>Touches</th>\n",
              "      <th>Crosses</th>\n",
              "      <th>Dribbles</th>\n",
              "      <th>Corners Taken</th>\n",
              "      <th>Tackles</th>\n",
              "      <th>Clearances</th>\n",
              "      <th>Interceptions</th>\n",
              "      <th>Clearances off line</th>\n",
              "      <th>Clean Sheets</th>\n",
              "      <th>Blocks</th>\n",
              "      <th>Goals conceded</th>\n",
              "      <th>Saves made</th>\n",
              "      <th>Saves-to-shots ratio</th>\n",
              "      <th>Fouls Won</th>\n",
              "      <th>Fouls Conceded</th>\n",
              "      <th>Offsides</th>\n",
              "      <th>Yellow Cards</th>\n",
              "      <th>Red Cards</th>\n",
              "      <th>Subs on</th>\n",
              "      <th>Subs off</th>\n",
              "      <th>Players Used</th>\n",
              "    </tr>\n",
              "  </thead>\n",
              "  <tbody>\n",
              "    <tr>\n",
              "      <th>0</th>\n",
              "      <td>Croatia</td>\n",
              "      <td>4</td>\n",
              "      <td>13</td>\n",
              "      <td>12</td>\n",
              "      <td>51.9%</td>\n",
              "      <td>16.0%</td>\n",
              "      <td>32</td>\n",
              "      <td>0</td>\n",
              "      <td>0</td>\n",
              "      <td>0</td>\n",
              "      <td>2</td>\n",
              "      <td>1076</td>\n",
              "      <td>828</td>\n",
              "      <td>76.9%</td>\n",
              "      <td>1706</td>\n",
              "      <td>60</td>\n",
              "      <td>42</td>\n",
              "      <td>14</td>\n",
              "      <td>49</td>\n",
              "      <td>83</td>\n",
              "      <td>56</td>\n",
              "      <td>NaN</td>\n",
              "      <td>0</td>\n",
              "      <td>10</td>\n",
              "      <td>3</td>\n",
              "      <td>13</td>\n",
              "      <td>81.3%</td>\n",
              "      <td>41</td>\n",
              "      <td>62</td>\n",
              "      <td>2</td>\n",
              "      <td>9</td>\n",
              "      <td>0</td>\n",
              "      <td>9</td>\n",
              "      <td>9</td>\n",
              "      <td>16</td>\n",
              "    </tr>\n",
              "    <tr>\n",
              "      <th>1</th>\n",
              "      <td>Czech Republic</td>\n",
              "      <td>4</td>\n",
              "      <td>13</td>\n",
              "      <td>18</td>\n",
              "      <td>41.9%</td>\n",
              "      <td>12.9%</td>\n",
              "      <td>39</td>\n",
              "      <td>0</td>\n",
              "      <td>0</td>\n",
              "      <td>0</td>\n",
              "      <td>0</td>\n",
              "      <td>1565</td>\n",
              "      <td>1223</td>\n",
              "      <td>78.1%</td>\n",
              "      <td>2358</td>\n",
              "      <td>46</td>\n",
              "      <td>68</td>\n",
              "      <td>21</td>\n",
              "      <td>62</td>\n",
              "      <td>98</td>\n",
              "      <td>37</td>\n",
              "      <td>2.0</td>\n",
              "      <td>1</td>\n",
              "      <td>10</td>\n",
              "      <td>6</td>\n",
              "      <td>9</td>\n",
              "      <td>60.1%</td>\n",
              "      <td>53</td>\n",
              "      <td>73</td>\n",
              "      <td>8</td>\n",
              "      <td>7</td>\n",
              "      <td>0</td>\n",
              "      <td>11</td>\n",
              "      <td>11</td>\n",
              "      <td>19</td>\n",
              "    </tr>\n",
              "    <tr>\n",
              "      <th>2</th>\n",
              "      <td>Denmark</td>\n",
              "      <td>4</td>\n",
              "      <td>10</td>\n",
              "      <td>10</td>\n",
              "      <td>50.0%</td>\n",
              "      <td>20.0%</td>\n",
              "      <td>27</td>\n",
              "      <td>1</td>\n",
              "      <td>0</td>\n",
              "      <td>0</td>\n",
              "      <td>3</td>\n",
              "      <td>1298</td>\n",
              "      <td>1082</td>\n",
              "      <td>83.3%</td>\n",
              "      <td>1873</td>\n",
              "      <td>43</td>\n",
              "      <td>32</td>\n",
              "      <td>16</td>\n",
              "      <td>40</td>\n",
              "      <td>61</td>\n",
              "      <td>59</td>\n",
              "      <td>0.0</td>\n",
              "      <td>1</td>\n",
              "      <td>10</td>\n",
              "      <td>5</td>\n",
              "      <td>10</td>\n",
              "      <td>66.7%</td>\n",
              "      <td>25</td>\n",
              "      <td>38</td>\n",
              "      <td>8</td>\n",
              "      <td>4</td>\n",
              "      <td>0</td>\n",
              "      <td>7</td>\n",
              "      <td>7</td>\n",
              "      <td>15</td>\n",
              "    </tr>\n",
              "    <tr>\n",
              "      <th>3</th>\n",
              "      <td>England</td>\n",
              "      <td>5</td>\n",
              "      <td>11</td>\n",
              "      <td>18</td>\n",
              "      <td>50.0%</td>\n",
              "      <td>17.2%</td>\n",
              "      <td>40</td>\n",
              "      <td>0</td>\n",
              "      <td>0</td>\n",
              "      <td>0</td>\n",
              "      <td>3</td>\n",
              "      <td>1488</td>\n",
              "      <td>1200</td>\n",
              "      <td>80.6%</td>\n",
              "      <td>2440</td>\n",
              "      <td>58</td>\n",
              "      <td>60</td>\n",
              "      <td>16</td>\n",
              "      <td>86</td>\n",
              "      <td>106</td>\n",
              "      <td>72</td>\n",
              "      <td>1.0</td>\n",
              "      <td>2</td>\n",
              "      <td>29</td>\n",
              "      <td>3</td>\n",
              "      <td>22</td>\n",
              "      <td>88.1%</td>\n",
              "      <td>43</td>\n",
              "      <td>45</td>\n",
              "      <td>6</td>\n",
              "      <td>5</td>\n",
              "      <td>0</td>\n",
              "      <td>11</td>\n",
              "      <td>11</td>\n",
              "      <td>16</td>\n",
              "    </tr>\n",
              "    <tr>\n",
              "      <th>4</th>\n",
              "      <td>France</td>\n",
              "      <td>3</td>\n",
              "      <td>22</td>\n",
              "      <td>24</td>\n",
              "      <td>37.9%</td>\n",
              "      <td>6.5%</td>\n",
              "      <td>65</td>\n",
              "      <td>1</td>\n",
              "      <td>0</td>\n",
              "      <td>0</td>\n",
              "      <td>0</td>\n",
              "      <td>2066</td>\n",
              "      <td>1803</td>\n",
              "      <td>87.2%</td>\n",
              "      <td>2909</td>\n",
              "      <td>55</td>\n",
              "      <td>76</td>\n",
              "      <td>28</td>\n",
              "      <td>71</td>\n",
              "      <td>76</td>\n",
              "      <td>58</td>\n",
              "      <td>0.0</td>\n",
              "      <td>1</td>\n",
              "      <td>7</td>\n",
              "      <td>5</td>\n",
              "      <td>6</td>\n",
              "      <td>54.6%</td>\n",
              "      <td>36</td>\n",
              "      <td>51</td>\n",
              "      <td>5</td>\n",
              "      <td>6</td>\n",
              "      <td>0</td>\n",
              "      <td>11</td>\n",
              "      <td>11</td>\n",
              "      <td>19</td>\n",
              "    </tr>\n",
              "  </tbody>\n",
              "</table>\n",
              "</div>"
            ],
            "text/plain": [
              "             Team  Goals  Shots on target  ...  Subs on Subs off Players Used\n",
              "0         Croatia      4               13  ...        9        9           16\n",
              "1  Czech Republic      4               13  ...       11       11           19\n",
              "2         Denmark      4               10  ...        7        7           15\n",
              "3         England      5               11  ...       11       11           16\n",
              "4          France      3               22  ...       11       11           19\n",
              "\n",
              "[5 rows x 35 columns]"
            ]
          },
          "metadata": {
            "tags": []
          },
          "execution_count": 203
        }
      ]
    },
    {
      "cell_type": "markdown",
      "metadata": {
        "id": "-oYSWMcOUQeU",
        "colab_type": "text"
      },
      "source": [
        "Выберите только столбец `Goal`"
      ]
    },
    {
      "cell_type": "code",
      "metadata": {
        "id": "uXgSnI24UQeX",
        "colab_type": "code",
        "outputId": "ad1fb041-5f85-42c1-cfc6-c297f2ac2f84",
        "colab": {
          "base_uri": "https://localhost:8080/",
          "height": 201
        }
      },
      "source": [
        "euro12['Goals']"
      ],
      "execution_count": 0,
      "outputs": [
        {
          "output_type": "execute_result",
          "data": {
            "text/plain": [
              "0      4\n",
              "1      4\n",
              "2      4\n",
              "3      5\n",
              "      ..\n",
              "12     5\n",
              "13    12\n",
              "14     5\n",
              "15     2\n",
              "Name: Goals, Length: 16, dtype: int64"
            ]
          },
          "metadata": {
            "tags": []
          },
          "execution_count": 11
        }
      ]
    },
    {
      "cell_type": "markdown",
      "metadata": {
        "id": "Lq7D0hOQUQej",
        "colab_type": "text"
      },
      "source": [
        "Сколько команд участвовало в Евро2012?"
      ]
    },
    {
      "cell_type": "code",
      "metadata": {
        "id": "AMV9CDcvUQem",
        "colab_type": "code",
        "outputId": "51f60bd5-87c5-4567-e276-a6afb94e89e4",
        "colab": {
          "base_uri": "https://localhost:8080/",
          "height": 35
        }
      },
      "source": [
        "euro12['Team'].count()"
      ],
      "execution_count": 0,
      "outputs": [
        {
          "output_type": "execute_result",
          "data": {
            "text/plain": [
              "16"
            ]
          },
          "metadata": {
            "tags": []
          },
          "execution_count": 16
        }
      ]
    },
    {
      "cell_type": "markdown",
      "metadata": {
        "id": "3Ef-tCIrUQey",
        "colab_type": "text"
      },
      "source": [
        "Сколько столбцов в датасете?"
      ]
    },
    {
      "cell_type": "code",
      "metadata": {
        "id": "hC6H_hz1UQe0",
        "colab_type": "code",
        "outputId": "beb09b13-4a00-4a6a-bad3-13eb50f8514a",
        "colab": {
          "base_uri": "https://localhost:8080/",
          "height": 35
        }
      },
      "source": [
        "euro12.shape[1]"
      ],
      "execution_count": 0,
      "outputs": [
        {
          "output_type": "execute_result",
          "data": {
            "text/plain": [
              "35"
            ]
          },
          "metadata": {
            "tags": []
          },
          "execution_count": 21
        }
      ]
    },
    {
      "cell_type": "markdown",
      "metadata": {
        "id": "7o5fiFkSUQfD",
        "colab_type": "text"
      },
      "source": [
        "Выберите столбцы `Team`, `Yellow Cards` и `Red Cards` и сохраните в переменной $discipline$"
      ]
    },
    {
      "cell_type": "code",
      "metadata": {
        "id": "6gUsK-rnUQfF",
        "colab_type": "code",
        "colab": {}
      },
      "source": [
        "discipline = euro12[['Team','Yellow Cards','Red Cards']]"
      ],
      "execution_count": 0,
      "outputs": []
    },
    {
      "cell_type": "markdown",
      "metadata": {
        "id": "D6sw7wP6UQfR",
        "colab_type": "text"
      },
      "source": [
        "Отсортируйте команды сначала по количеству красных карточек, потом - по количеству желтых карточек"
      ]
    },
    {
      "cell_type": "code",
      "metadata": {
        "id": "PeyB3AtIYuvg",
        "colab_type": "code",
        "outputId": "7f09f196-f93c-496b-e88d-30bf99996930",
        "colab": {
          "base_uri": "https://localhost:8080/",
          "height": 361
        }
      },
      "source": [
        "#discipline.sort_values(['Red Cards','Yellow Cards'], axis=0)\n",
        "discipline.sort_values(by='Red Cards')"
      ],
      "execution_count": 0,
      "outputs": [
        {
          "output_type": "execute_result",
          "data": {
            "text/html": [
              "<div>\n",
              "<style scoped>\n",
              "    .dataframe tbody tr th:only-of-type {\n",
              "        vertical-align: middle;\n",
              "    }\n",
              "\n",
              "    .dataframe tbody tr th {\n",
              "        vertical-align: top;\n",
              "    }\n",
              "\n",
              "    .dataframe thead th {\n",
              "        text-align: right;\n",
              "    }\n",
              "</style>\n",
              "<table border=\"1\" class=\"dataframe\">\n",
              "  <thead>\n",
              "    <tr style=\"text-align: right;\">\n",
              "      <th></th>\n",
              "      <th>Team</th>\n",
              "      <th>Yellow Cards</th>\n",
              "      <th>Red Cards</th>\n",
              "    </tr>\n",
              "  </thead>\n",
              "  <tbody>\n",
              "    <tr>\n",
              "      <th>0</th>\n",
              "      <td>Croatia</td>\n",
              "      <td>9</td>\n",
              "      <td>0</td>\n",
              "    </tr>\n",
              "    <tr>\n",
              "      <th>1</th>\n",
              "      <td>Czech Republic</td>\n",
              "      <td>7</td>\n",
              "      <td>0</td>\n",
              "    </tr>\n",
              "    <tr>\n",
              "      <th>2</th>\n",
              "      <td>Denmark</td>\n",
              "      <td>4</td>\n",
              "      <td>0</td>\n",
              "    </tr>\n",
              "    <tr>\n",
              "      <th>3</th>\n",
              "      <td>England</td>\n",
              "      <td>5</td>\n",
              "      <td>0</td>\n",
              "    </tr>\n",
              "    <tr>\n",
              "      <th>...</th>\n",
              "      <td>...</td>\n",
              "      <td>...</td>\n",
              "      <td>...</td>\n",
              "    </tr>\n",
              "    <tr>\n",
              "      <th>15</th>\n",
              "      <td>Ukraine</td>\n",
              "      <td>5</td>\n",
              "      <td>0</td>\n",
              "    </tr>\n",
              "    <tr>\n",
              "      <th>6</th>\n",
              "      <td>Greece</td>\n",
              "      <td>9</td>\n",
              "      <td>1</td>\n",
              "    </tr>\n",
              "    <tr>\n",
              "      <th>9</th>\n",
              "      <td>Poland</td>\n",
              "      <td>7</td>\n",
              "      <td>1</td>\n",
              "    </tr>\n",
              "    <tr>\n",
              "      <th>11</th>\n",
              "      <td>Republic of Ireland</td>\n",
              "      <td>6</td>\n",
              "      <td>1</td>\n",
              "    </tr>\n",
              "  </tbody>\n",
              "</table>\n",
              "<p>16 rows × 3 columns</p>\n",
              "</div>"
            ],
            "text/plain": [
              "                   Team  Yellow Cards  Red Cards\n",
              "0               Croatia             9          0\n",
              "1        Czech Republic             7          0\n",
              "2               Denmark             4          0\n",
              "3               England             5          0\n",
              "..                  ...           ...        ...\n",
              "15              Ukraine             5          0\n",
              "6                Greece             9          1\n",
              "9                Poland             7          1\n",
              "11  Republic of Ireland             6          1\n",
              "\n",
              "[16 rows x 3 columns]"
            ]
          },
          "metadata": {
            "tags": []
          },
          "execution_count": 210
        }
      ]
    },
    {
      "cell_type": "code",
      "metadata": {
        "id": "cUfBMM3CNJbG",
        "colab_type": "code",
        "outputId": "a00efdb6-8ffb-4702-bef0-db33fd8b2670",
        "colab": {
          "base_uri": "https://localhost:8080/",
          "height": 361
        }
      },
      "source": [
        "discipline.sort_values(by='Yellow Cards')"
      ],
      "execution_count": 0,
      "outputs": [
        {
          "output_type": "execute_result",
          "data": {
            "text/html": [
              "<div>\n",
              "<style scoped>\n",
              "    .dataframe tbody tr th:only-of-type {\n",
              "        vertical-align: middle;\n",
              "    }\n",
              "\n",
              "    .dataframe tbody tr th {\n",
              "        vertical-align: top;\n",
              "    }\n",
              "\n",
              "    .dataframe thead th {\n",
              "        text-align: right;\n",
              "    }\n",
              "</style>\n",
              "<table border=\"1\" class=\"dataframe\">\n",
              "  <thead>\n",
              "    <tr style=\"text-align: right;\">\n",
              "      <th></th>\n",
              "      <th>Team</th>\n",
              "      <th>Yellow Cards</th>\n",
              "      <th>Red Cards</th>\n",
              "    </tr>\n",
              "  </thead>\n",
              "  <tbody>\n",
              "    <tr>\n",
              "      <th>2</th>\n",
              "      <td>Denmark</td>\n",
              "      <td>4</td>\n",
              "      <td>0</td>\n",
              "    </tr>\n",
              "    <tr>\n",
              "      <th>5</th>\n",
              "      <td>Germany</td>\n",
              "      <td>4</td>\n",
              "      <td>0</td>\n",
              "    </tr>\n",
              "    <tr>\n",
              "      <th>3</th>\n",
              "      <td>England</td>\n",
              "      <td>5</td>\n",
              "      <td>0</td>\n",
              "    </tr>\n",
              "    <tr>\n",
              "      <th>8</th>\n",
              "      <td>Netherlands</td>\n",
              "      <td>5</td>\n",
              "      <td>0</td>\n",
              "    </tr>\n",
              "    <tr>\n",
              "      <th>...</th>\n",
              "      <td>...</td>\n",
              "      <td>...</td>\n",
              "      <td>...</td>\n",
              "    </tr>\n",
              "    <tr>\n",
              "      <th>6</th>\n",
              "      <td>Greece</td>\n",
              "      <td>9</td>\n",
              "      <td>1</td>\n",
              "    </tr>\n",
              "    <tr>\n",
              "      <th>13</th>\n",
              "      <td>Spain</td>\n",
              "      <td>11</td>\n",
              "      <td>0</td>\n",
              "    </tr>\n",
              "    <tr>\n",
              "      <th>10</th>\n",
              "      <td>Portugal</td>\n",
              "      <td>12</td>\n",
              "      <td>0</td>\n",
              "    </tr>\n",
              "    <tr>\n",
              "      <th>7</th>\n",
              "      <td>Italy</td>\n",
              "      <td>16</td>\n",
              "      <td>0</td>\n",
              "    </tr>\n",
              "  </tbody>\n",
              "</table>\n",
              "<p>16 rows × 3 columns</p>\n",
              "</div>"
            ],
            "text/plain": [
              "           Team  Yellow Cards  Red Cards\n",
              "2       Denmark             4          0\n",
              "5       Germany             4          0\n",
              "3       England             5          0\n",
              "8   Netherlands             5          0\n",
              "..          ...           ...        ...\n",
              "6        Greece             9          1\n",
              "13        Spain            11          0\n",
              "10     Portugal            12          0\n",
              "7         Italy            16          0\n",
              "\n",
              "[16 rows x 3 columns]"
            ]
          },
          "metadata": {
            "tags": []
          },
          "execution_count": 211
        }
      ]
    },
    {
      "cell_type": "markdown",
      "metadata": {
        "id": "5K3I1rxpUQfa",
        "colab_type": "text"
      },
      "source": [
        "Вычислите среднее значение количества желтых карточек, выданных на команду"
      ]
    },
    {
      "cell_type": "code",
      "metadata": {
        "id": "iNr6Yqq7UQfb",
        "colab_type": "code",
        "outputId": "649093c8-0758-415a-f219-effe556152ea",
        "colab": {
          "base_uri": "https://localhost:8080/",
          "height": 35
        }
      },
      "source": [
        "discipline['Yellow Cards'].mean()"
      ],
      "execution_count": 0,
      "outputs": [
        {
          "output_type": "execute_result",
          "data": {
            "text/plain": [
              "7.4375"
            ]
          },
          "metadata": {
            "tags": []
          },
          "execution_count": 51
        }
      ]
    },
    {
      "cell_type": "markdown",
      "metadata": {
        "id": "w_JYDlRKUQfl",
        "colab_type": "text"
      },
      "source": [
        "Выберите команды, которые забили больше 6 голов"
      ]
    },
    {
      "cell_type": "code",
      "metadata": {
        "id": "OqWXRdc4UQfm",
        "colab_type": "code",
        "outputId": "72550460-1fc7-4347-bc47-d86ba4f35a63",
        "colab": {
          "base_uri": "https://localhost:8080/",
          "height": 72
        }
      },
      "source": [
        "euro12['Team'].loc[euro12.Goals > 6]"
      ],
      "execution_count": 0,
      "outputs": [
        {
          "output_type": "execute_result",
          "data": {
            "text/plain": [
              "5     Germany\n",
              "13      Spain\n",
              "Name: Team, dtype: object"
            ]
          },
          "metadata": {
            "tags": []
          },
          "execution_count": 109
        }
      ]
    },
    {
      "cell_type": "markdown",
      "metadata": {
        "id": "F-VXZDhNUQfv",
        "colab_type": "text"
      },
      "source": [
        "Выберите команды, чье название начинается с `G`"
      ]
    },
    {
      "cell_type": "code",
      "metadata": {
        "id": "oYxkrxVCUQfw",
        "colab_type": "code",
        "outputId": "750c572e-734a-477c-c121-8eb774509baa",
        "colab": {
          "base_uri": "https://localhost:8080/",
          "height": 184
        }
      },
      "source": [
        "euro12[euro12['Team'].str.contains('G')]"
      ],
      "execution_count": 0,
      "outputs": [
        {
          "output_type": "execute_result",
          "data": {
            "text/html": [
              "<div>\n",
              "<style scoped>\n",
              "    .dataframe tbody tr th:only-of-type {\n",
              "        vertical-align: middle;\n",
              "    }\n",
              "\n",
              "    .dataframe tbody tr th {\n",
              "        vertical-align: top;\n",
              "    }\n",
              "\n",
              "    .dataframe thead th {\n",
              "        text-align: right;\n",
              "    }\n",
              "</style>\n",
              "<table border=\"1\" class=\"dataframe\">\n",
              "  <thead>\n",
              "    <tr style=\"text-align: right;\">\n",
              "      <th></th>\n",
              "      <th>Team</th>\n",
              "      <th>Goals</th>\n",
              "      <th>Shots on target</th>\n",
              "      <th>Shots off target</th>\n",
              "      <th>Shooting Accuracy</th>\n",
              "      <th>% Goals-to-shots</th>\n",
              "      <th>Total shots (inc. Blocked)</th>\n",
              "      <th>Hit Woodwork</th>\n",
              "      <th>Penalty goals</th>\n",
              "      <th>Penalties not scored</th>\n",
              "      <th>Headed goals</th>\n",
              "      <th>Passes</th>\n",
              "      <th>Passes completed</th>\n",
              "      <th>Passing Accuracy</th>\n",
              "      <th>Touches</th>\n",
              "      <th>Crosses</th>\n",
              "      <th>Dribbles</th>\n",
              "      <th>Corners Taken</th>\n",
              "      <th>Tackles</th>\n",
              "      <th>Clearances</th>\n",
              "      <th>Interceptions</th>\n",
              "      <th>Clearances off line</th>\n",
              "      <th>Clean Sheets</th>\n",
              "      <th>Blocks</th>\n",
              "      <th>Goals conceded</th>\n",
              "      <th>Saves made</th>\n",
              "      <th>Saves-to-shots ratio</th>\n",
              "      <th>Fouls Won</th>\n",
              "      <th>Fouls Conceded</th>\n",
              "      <th>Offsides</th>\n",
              "      <th>Yellow Cards</th>\n",
              "      <th>Red Cards</th>\n",
              "      <th>Subs on</th>\n",
              "      <th>Subs off</th>\n",
              "      <th>Players Used</th>\n",
              "    </tr>\n",
              "  </thead>\n",
              "  <tbody>\n",
              "    <tr>\n",
              "      <th>5</th>\n",
              "      <td>Germany</td>\n",
              "      <td>10</td>\n",
              "      <td>32</td>\n",
              "      <td>32</td>\n",
              "      <td>47.8%</td>\n",
              "      <td>15.6%</td>\n",
              "      <td>80</td>\n",
              "      <td>2</td>\n",
              "      <td>1</td>\n",
              "      <td>0</td>\n",
              "      <td>2</td>\n",
              "      <td>2774</td>\n",
              "      <td>2427</td>\n",
              "      <td>87.4%</td>\n",
              "      <td>3761</td>\n",
              "      <td>101</td>\n",
              "      <td>60</td>\n",
              "      <td>35</td>\n",
              "      <td>91</td>\n",
              "      <td>73</td>\n",
              "      <td>69</td>\n",
              "      <td>0.0</td>\n",
              "      <td>1</td>\n",
              "      <td>11</td>\n",
              "      <td>6</td>\n",
              "      <td>10</td>\n",
              "      <td>62.6%</td>\n",
              "      <td>63</td>\n",
              "      <td>49</td>\n",
              "      <td>12</td>\n",
              "      <td>4</td>\n",
              "      <td>0</td>\n",
              "      <td>15</td>\n",
              "      <td>15</td>\n",
              "      <td>17</td>\n",
              "    </tr>\n",
              "    <tr>\n",
              "      <th>6</th>\n",
              "      <td>Greece</td>\n",
              "      <td>5</td>\n",
              "      <td>8</td>\n",
              "      <td>18</td>\n",
              "      <td>30.7%</td>\n",
              "      <td>19.2%</td>\n",
              "      <td>32</td>\n",
              "      <td>1</td>\n",
              "      <td>1</td>\n",
              "      <td>1</td>\n",
              "      <td>0</td>\n",
              "      <td>1187</td>\n",
              "      <td>911</td>\n",
              "      <td>76.7%</td>\n",
              "      <td>2016</td>\n",
              "      <td>52</td>\n",
              "      <td>53</td>\n",
              "      <td>10</td>\n",
              "      <td>65</td>\n",
              "      <td>123</td>\n",
              "      <td>87</td>\n",
              "      <td>0.0</td>\n",
              "      <td>1</td>\n",
              "      <td>23</td>\n",
              "      <td>7</td>\n",
              "      <td>13</td>\n",
              "      <td>65.1%</td>\n",
              "      <td>67</td>\n",
              "      <td>48</td>\n",
              "      <td>12</td>\n",
              "      <td>9</td>\n",
              "      <td>1</td>\n",
              "      <td>12</td>\n",
              "      <td>12</td>\n",
              "      <td>20</td>\n",
              "    </tr>\n",
              "  </tbody>\n",
              "</table>\n",
              "</div>"
            ],
            "text/plain": [
              "      Team  Goals  Shots on target  ...  Subs on Subs off Players Used\n",
              "5  Germany     10               32  ...       15       15           17\n",
              "6   Greece      5                8  ...       12       12           20\n",
              "\n",
              "[2 rows x 35 columns]"
            ]
          },
          "metadata": {
            "tags": []
          },
          "execution_count": 149
        }
      ]
    },
    {
      "cell_type": "markdown",
      "metadata": {
        "id": "M2TaDfwyUQf4",
        "colab_type": "text"
      },
      "source": [
        "Выберите первые 7 строк датафрейма $euro12$"
      ]
    },
    {
      "cell_type": "code",
      "metadata": {
        "id": "JCYlT-MdUQf6",
        "colab_type": "code",
        "outputId": "a055beb8-a021-4c4e-e01c-f44c9d96e47e",
        "colab": {
          "base_uri": "https://localhost:8080/",
          "height": 358
        }
      },
      "source": [
        "euro12[:7]"
      ],
      "execution_count": 0,
      "outputs": [
        {
          "output_type": "execute_result",
          "data": {
            "text/html": [
              "<div>\n",
              "<style scoped>\n",
              "    .dataframe tbody tr th:only-of-type {\n",
              "        vertical-align: middle;\n",
              "    }\n",
              "\n",
              "    .dataframe tbody tr th {\n",
              "        vertical-align: top;\n",
              "    }\n",
              "\n",
              "    .dataframe thead th {\n",
              "        text-align: right;\n",
              "    }\n",
              "</style>\n",
              "<table border=\"1\" class=\"dataframe\">\n",
              "  <thead>\n",
              "    <tr style=\"text-align: right;\">\n",
              "      <th></th>\n",
              "      <th>Team</th>\n",
              "      <th>Goals</th>\n",
              "      <th>Shots on target</th>\n",
              "      <th>Shots off target</th>\n",
              "      <th>Shooting Accuracy</th>\n",
              "      <th>% Goals-to-shots</th>\n",
              "      <th>Total shots (inc. Blocked)</th>\n",
              "      <th>Hit Woodwork</th>\n",
              "      <th>Penalty goals</th>\n",
              "      <th>Penalties not scored</th>\n",
              "      <th>Headed goals</th>\n",
              "      <th>Passes</th>\n",
              "      <th>Passes completed</th>\n",
              "      <th>Passing Accuracy</th>\n",
              "      <th>Touches</th>\n",
              "      <th>Crosses</th>\n",
              "      <th>Dribbles</th>\n",
              "      <th>Corners Taken</th>\n",
              "      <th>Tackles</th>\n",
              "      <th>Clearances</th>\n",
              "      <th>Interceptions</th>\n",
              "      <th>Clearances off line</th>\n",
              "      <th>Clean Sheets</th>\n",
              "      <th>Blocks</th>\n",
              "      <th>Goals conceded</th>\n",
              "      <th>Saves made</th>\n",
              "      <th>Saves-to-shots ratio</th>\n",
              "      <th>Fouls Won</th>\n",
              "      <th>Fouls Conceded</th>\n",
              "      <th>Offsides</th>\n",
              "      <th>Yellow Cards</th>\n",
              "      <th>Red Cards</th>\n",
              "      <th>Subs on</th>\n",
              "      <th>Subs off</th>\n",
              "      <th>Players Used</th>\n",
              "    </tr>\n",
              "  </thead>\n",
              "  <tbody>\n",
              "    <tr>\n",
              "      <th>0</th>\n",
              "      <td>Croatia</td>\n",
              "      <td>4</td>\n",
              "      <td>13</td>\n",
              "      <td>12</td>\n",
              "      <td>51.9%</td>\n",
              "      <td>16.0%</td>\n",
              "      <td>32</td>\n",
              "      <td>0</td>\n",
              "      <td>0</td>\n",
              "      <td>0</td>\n",
              "      <td>2</td>\n",
              "      <td>1076</td>\n",
              "      <td>828</td>\n",
              "      <td>76.9%</td>\n",
              "      <td>1706</td>\n",
              "      <td>60</td>\n",
              "      <td>42</td>\n",
              "      <td>14</td>\n",
              "      <td>49</td>\n",
              "      <td>83</td>\n",
              "      <td>56</td>\n",
              "      <td>NaN</td>\n",
              "      <td>0</td>\n",
              "      <td>10</td>\n",
              "      <td>3</td>\n",
              "      <td>13</td>\n",
              "      <td>81.3%</td>\n",
              "      <td>41</td>\n",
              "      <td>62</td>\n",
              "      <td>2</td>\n",
              "      <td>9</td>\n",
              "      <td>0</td>\n",
              "      <td>9</td>\n",
              "      <td>9</td>\n",
              "      <td>16</td>\n",
              "    </tr>\n",
              "    <tr>\n",
              "      <th>1</th>\n",
              "      <td>Czech Republic</td>\n",
              "      <td>4</td>\n",
              "      <td>13</td>\n",
              "      <td>18</td>\n",
              "      <td>41.9%</td>\n",
              "      <td>12.9%</td>\n",
              "      <td>39</td>\n",
              "      <td>0</td>\n",
              "      <td>0</td>\n",
              "      <td>0</td>\n",
              "      <td>0</td>\n",
              "      <td>1565</td>\n",
              "      <td>1223</td>\n",
              "      <td>78.1%</td>\n",
              "      <td>2358</td>\n",
              "      <td>46</td>\n",
              "      <td>68</td>\n",
              "      <td>21</td>\n",
              "      <td>62</td>\n",
              "      <td>98</td>\n",
              "      <td>37</td>\n",
              "      <td>2.0</td>\n",
              "      <td>1</td>\n",
              "      <td>10</td>\n",
              "      <td>6</td>\n",
              "      <td>9</td>\n",
              "      <td>60.1%</td>\n",
              "      <td>53</td>\n",
              "      <td>73</td>\n",
              "      <td>8</td>\n",
              "      <td>7</td>\n",
              "      <td>0</td>\n",
              "      <td>11</td>\n",
              "      <td>11</td>\n",
              "      <td>19</td>\n",
              "    </tr>\n",
              "    <tr>\n",
              "      <th>2</th>\n",
              "      <td>Denmark</td>\n",
              "      <td>4</td>\n",
              "      <td>10</td>\n",
              "      <td>10</td>\n",
              "      <td>50.0%</td>\n",
              "      <td>20.0%</td>\n",
              "      <td>27</td>\n",
              "      <td>1</td>\n",
              "      <td>0</td>\n",
              "      <td>0</td>\n",
              "      <td>3</td>\n",
              "      <td>1298</td>\n",
              "      <td>1082</td>\n",
              "      <td>83.3%</td>\n",
              "      <td>1873</td>\n",
              "      <td>43</td>\n",
              "      <td>32</td>\n",
              "      <td>16</td>\n",
              "      <td>40</td>\n",
              "      <td>61</td>\n",
              "      <td>59</td>\n",
              "      <td>0.0</td>\n",
              "      <td>1</td>\n",
              "      <td>10</td>\n",
              "      <td>5</td>\n",
              "      <td>10</td>\n",
              "      <td>66.7%</td>\n",
              "      <td>25</td>\n",
              "      <td>38</td>\n",
              "      <td>8</td>\n",
              "      <td>4</td>\n",
              "      <td>0</td>\n",
              "      <td>7</td>\n",
              "      <td>7</td>\n",
              "      <td>15</td>\n",
              "    </tr>\n",
              "    <tr>\n",
              "      <th>3</th>\n",
              "      <td>England</td>\n",
              "      <td>5</td>\n",
              "      <td>11</td>\n",
              "      <td>18</td>\n",
              "      <td>50.0%</td>\n",
              "      <td>17.2%</td>\n",
              "      <td>40</td>\n",
              "      <td>0</td>\n",
              "      <td>0</td>\n",
              "      <td>0</td>\n",
              "      <td>3</td>\n",
              "      <td>1488</td>\n",
              "      <td>1200</td>\n",
              "      <td>80.6%</td>\n",
              "      <td>2440</td>\n",
              "      <td>58</td>\n",
              "      <td>60</td>\n",
              "      <td>16</td>\n",
              "      <td>86</td>\n",
              "      <td>106</td>\n",
              "      <td>72</td>\n",
              "      <td>1.0</td>\n",
              "      <td>2</td>\n",
              "      <td>29</td>\n",
              "      <td>3</td>\n",
              "      <td>22</td>\n",
              "      <td>88.1%</td>\n",
              "      <td>43</td>\n",
              "      <td>45</td>\n",
              "      <td>6</td>\n",
              "      <td>5</td>\n",
              "      <td>0</td>\n",
              "      <td>11</td>\n",
              "      <td>11</td>\n",
              "      <td>16</td>\n",
              "    </tr>\n",
              "    <tr>\n",
              "      <th>4</th>\n",
              "      <td>France</td>\n",
              "      <td>3</td>\n",
              "      <td>22</td>\n",
              "      <td>24</td>\n",
              "      <td>37.9%</td>\n",
              "      <td>6.5%</td>\n",
              "      <td>65</td>\n",
              "      <td>1</td>\n",
              "      <td>0</td>\n",
              "      <td>0</td>\n",
              "      <td>0</td>\n",
              "      <td>2066</td>\n",
              "      <td>1803</td>\n",
              "      <td>87.2%</td>\n",
              "      <td>2909</td>\n",
              "      <td>55</td>\n",
              "      <td>76</td>\n",
              "      <td>28</td>\n",
              "      <td>71</td>\n",
              "      <td>76</td>\n",
              "      <td>58</td>\n",
              "      <td>0.0</td>\n",
              "      <td>1</td>\n",
              "      <td>7</td>\n",
              "      <td>5</td>\n",
              "      <td>6</td>\n",
              "      <td>54.6%</td>\n",
              "      <td>36</td>\n",
              "      <td>51</td>\n",
              "      <td>5</td>\n",
              "      <td>6</td>\n",
              "      <td>0</td>\n",
              "      <td>11</td>\n",
              "      <td>11</td>\n",
              "      <td>19</td>\n",
              "    </tr>\n",
              "    <tr>\n",
              "      <th>5</th>\n",
              "      <td>Germany</td>\n",
              "      <td>10</td>\n",
              "      <td>32</td>\n",
              "      <td>32</td>\n",
              "      <td>47.8%</td>\n",
              "      <td>15.6%</td>\n",
              "      <td>80</td>\n",
              "      <td>2</td>\n",
              "      <td>1</td>\n",
              "      <td>0</td>\n",
              "      <td>2</td>\n",
              "      <td>2774</td>\n",
              "      <td>2427</td>\n",
              "      <td>87.4%</td>\n",
              "      <td>3761</td>\n",
              "      <td>101</td>\n",
              "      <td>60</td>\n",
              "      <td>35</td>\n",
              "      <td>91</td>\n",
              "      <td>73</td>\n",
              "      <td>69</td>\n",
              "      <td>0.0</td>\n",
              "      <td>1</td>\n",
              "      <td>11</td>\n",
              "      <td>6</td>\n",
              "      <td>10</td>\n",
              "      <td>62.6%</td>\n",
              "      <td>63</td>\n",
              "      <td>49</td>\n",
              "      <td>12</td>\n",
              "      <td>4</td>\n",
              "      <td>0</td>\n",
              "      <td>15</td>\n",
              "      <td>15</td>\n",
              "      <td>17</td>\n",
              "    </tr>\n",
              "    <tr>\n",
              "      <th>6</th>\n",
              "      <td>Greece</td>\n",
              "      <td>5</td>\n",
              "      <td>8</td>\n",
              "      <td>18</td>\n",
              "      <td>30.7%</td>\n",
              "      <td>19.2%</td>\n",
              "      <td>32</td>\n",
              "      <td>1</td>\n",
              "      <td>1</td>\n",
              "      <td>1</td>\n",
              "      <td>0</td>\n",
              "      <td>1187</td>\n",
              "      <td>911</td>\n",
              "      <td>76.7%</td>\n",
              "      <td>2016</td>\n",
              "      <td>52</td>\n",
              "      <td>53</td>\n",
              "      <td>10</td>\n",
              "      <td>65</td>\n",
              "      <td>123</td>\n",
              "      <td>87</td>\n",
              "      <td>0.0</td>\n",
              "      <td>1</td>\n",
              "      <td>23</td>\n",
              "      <td>7</td>\n",
              "      <td>13</td>\n",
              "      <td>65.1%</td>\n",
              "      <td>67</td>\n",
              "      <td>48</td>\n",
              "      <td>12</td>\n",
              "      <td>9</td>\n",
              "      <td>1</td>\n",
              "      <td>12</td>\n",
              "      <td>12</td>\n",
              "      <td>20</td>\n",
              "    </tr>\n",
              "  </tbody>\n",
              "</table>\n",
              "</div>"
            ],
            "text/plain": [
              "             Team  Goals  Shots on target  ...  Subs on Subs off Players Used\n",
              "0         Croatia      4               13  ...        9        9           16\n",
              "1  Czech Republic      4               13  ...       11       11           19\n",
              "2         Denmark      4               10  ...        7        7           15\n",
              "3         England      5               11  ...       11       11           16\n",
              "4          France      3               22  ...       11       11           19\n",
              "5         Germany     10               32  ...       15       15           17\n",
              "6          Greece      5                8  ...       12       12           20\n",
              "\n",
              "[7 rows x 35 columns]"
            ]
          },
          "metadata": {
            "tags": []
          },
          "execution_count": 122
        }
      ]
    },
    {
      "cell_type": "markdown",
      "metadata": {
        "id": "6VGGqgEHUQgF",
        "colab_type": "text"
      },
      "source": [
        "Выберите все столбцы за исключением 3 последних"
      ]
    },
    {
      "cell_type": "code",
      "metadata": {
        "id": "_QhKk9z8UQgG",
        "colab_type": "code",
        "outputId": "9a6cb2a6-2f89-4d95-d3b4-7bffeeb25957",
        "colab": {
          "base_uri": "https://localhost:8080/",
          "height": 451
        }
      },
      "source": [
        "euro12.iloc[:,:-3]"
      ],
      "execution_count": 0,
      "outputs": [
        {
          "output_type": "execute_result",
          "data": {
            "text/html": [
              "<div>\n",
              "<style scoped>\n",
              "    .dataframe tbody tr th:only-of-type {\n",
              "        vertical-align: middle;\n",
              "    }\n",
              "\n",
              "    .dataframe tbody tr th {\n",
              "        vertical-align: top;\n",
              "    }\n",
              "\n",
              "    .dataframe thead th {\n",
              "        text-align: right;\n",
              "    }\n",
              "</style>\n",
              "<table border=\"1\" class=\"dataframe\">\n",
              "  <thead>\n",
              "    <tr style=\"text-align: right;\">\n",
              "      <th></th>\n",
              "      <th>Team</th>\n",
              "      <th>Goals</th>\n",
              "      <th>Shots on target</th>\n",
              "      <th>Shots off target</th>\n",
              "      <th>Shooting Accuracy</th>\n",
              "      <th>% Goals-to-shots</th>\n",
              "      <th>Total shots (inc. Blocked)</th>\n",
              "      <th>Hit Woodwork</th>\n",
              "      <th>Penalty goals</th>\n",
              "      <th>Penalties not scored</th>\n",
              "      <th>Headed goals</th>\n",
              "      <th>Passes</th>\n",
              "      <th>Passes completed</th>\n",
              "      <th>Passing Accuracy</th>\n",
              "      <th>Touches</th>\n",
              "      <th>Crosses</th>\n",
              "      <th>Dribbles</th>\n",
              "      <th>Corners Taken</th>\n",
              "      <th>Tackles</th>\n",
              "      <th>Clearances</th>\n",
              "      <th>Interceptions</th>\n",
              "      <th>Clearances off line</th>\n",
              "      <th>Clean Sheets</th>\n",
              "      <th>Blocks</th>\n",
              "      <th>Goals conceded</th>\n",
              "      <th>Saves made</th>\n",
              "      <th>Saves-to-shots ratio</th>\n",
              "      <th>Fouls Won</th>\n",
              "      <th>Fouls Conceded</th>\n",
              "      <th>Offsides</th>\n",
              "      <th>Yellow Cards</th>\n",
              "      <th>Red Cards</th>\n",
              "    </tr>\n",
              "  </thead>\n",
              "  <tbody>\n",
              "    <tr>\n",
              "      <th>0</th>\n",
              "      <td>Croatia</td>\n",
              "      <td>4</td>\n",
              "      <td>13</td>\n",
              "      <td>12</td>\n",
              "      <td>51.9%</td>\n",
              "      <td>16.0%</td>\n",
              "      <td>32</td>\n",
              "      <td>0</td>\n",
              "      <td>0</td>\n",
              "      <td>0</td>\n",
              "      <td>2</td>\n",
              "      <td>1076</td>\n",
              "      <td>828</td>\n",
              "      <td>76.9%</td>\n",
              "      <td>1706</td>\n",
              "      <td>60</td>\n",
              "      <td>42</td>\n",
              "      <td>14</td>\n",
              "      <td>49</td>\n",
              "      <td>83</td>\n",
              "      <td>56</td>\n",
              "      <td>NaN</td>\n",
              "      <td>0</td>\n",
              "      <td>10</td>\n",
              "      <td>3</td>\n",
              "      <td>13</td>\n",
              "      <td>81.3%</td>\n",
              "      <td>41</td>\n",
              "      <td>62</td>\n",
              "      <td>2</td>\n",
              "      <td>9</td>\n",
              "      <td>0</td>\n",
              "    </tr>\n",
              "    <tr>\n",
              "      <th>1</th>\n",
              "      <td>Czech Republic</td>\n",
              "      <td>4</td>\n",
              "      <td>13</td>\n",
              "      <td>18</td>\n",
              "      <td>41.9%</td>\n",
              "      <td>12.9%</td>\n",
              "      <td>39</td>\n",
              "      <td>0</td>\n",
              "      <td>0</td>\n",
              "      <td>0</td>\n",
              "      <td>0</td>\n",
              "      <td>1565</td>\n",
              "      <td>1223</td>\n",
              "      <td>78.1%</td>\n",
              "      <td>2358</td>\n",
              "      <td>46</td>\n",
              "      <td>68</td>\n",
              "      <td>21</td>\n",
              "      <td>62</td>\n",
              "      <td>98</td>\n",
              "      <td>37</td>\n",
              "      <td>2.0</td>\n",
              "      <td>1</td>\n",
              "      <td>10</td>\n",
              "      <td>6</td>\n",
              "      <td>9</td>\n",
              "      <td>60.1%</td>\n",
              "      <td>53</td>\n",
              "      <td>73</td>\n",
              "      <td>8</td>\n",
              "      <td>7</td>\n",
              "      <td>0</td>\n",
              "    </tr>\n",
              "    <tr>\n",
              "      <th>2</th>\n",
              "      <td>Denmark</td>\n",
              "      <td>4</td>\n",
              "      <td>10</td>\n",
              "      <td>10</td>\n",
              "      <td>50.0%</td>\n",
              "      <td>20.0%</td>\n",
              "      <td>27</td>\n",
              "      <td>1</td>\n",
              "      <td>0</td>\n",
              "      <td>0</td>\n",
              "      <td>3</td>\n",
              "      <td>1298</td>\n",
              "      <td>1082</td>\n",
              "      <td>83.3%</td>\n",
              "      <td>1873</td>\n",
              "      <td>43</td>\n",
              "      <td>32</td>\n",
              "      <td>16</td>\n",
              "      <td>40</td>\n",
              "      <td>61</td>\n",
              "      <td>59</td>\n",
              "      <td>0.0</td>\n",
              "      <td>1</td>\n",
              "      <td>10</td>\n",
              "      <td>5</td>\n",
              "      <td>10</td>\n",
              "      <td>66.7%</td>\n",
              "      <td>25</td>\n",
              "      <td>38</td>\n",
              "      <td>8</td>\n",
              "      <td>4</td>\n",
              "      <td>0</td>\n",
              "    </tr>\n",
              "    <tr>\n",
              "      <th>3</th>\n",
              "      <td>England</td>\n",
              "      <td>5</td>\n",
              "      <td>11</td>\n",
              "      <td>18</td>\n",
              "      <td>50.0%</td>\n",
              "      <td>17.2%</td>\n",
              "      <td>40</td>\n",
              "      <td>0</td>\n",
              "      <td>0</td>\n",
              "      <td>0</td>\n",
              "      <td>3</td>\n",
              "      <td>1488</td>\n",
              "      <td>1200</td>\n",
              "      <td>80.6%</td>\n",
              "      <td>2440</td>\n",
              "      <td>58</td>\n",
              "      <td>60</td>\n",
              "      <td>16</td>\n",
              "      <td>86</td>\n",
              "      <td>106</td>\n",
              "      <td>72</td>\n",
              "      <td>1.0</td>\n",
              "      <td>2</td>\n",
              "      <td>29</td>\n",
              "      <td>3</td>\n",
              "      <td>22</td>\n",
              "      <td>88.1%</td>\n",
              "      <td>43</td>\n",
              "      <td>45</td>\n",
              "      <td>6</td>\n",
              "      <td>5</td>\n",
              "      <td>0</td>\n",
              "    </tr>\n",
              "    <tr>\n",
              "      <th>...</th>\n",
              "      <td>...</td>\n",
              "      <td>...</td>\n",
              "      <td>...</td>\n",
              "      <td>...</td>\n",
              "      <td>...</td>\n",
              "      <td>...</td>\n",
              "      <td>...</td>\n",
              "      <td>...</td>\n",
              "      <td>...</td>\n",
              "      <td>...</td>\n",
              "      <td>...</td>\n",
              "      <td>...</td>\n",
              "      <td>...</td>\n",
              "      <td>...</td>\n",
              "      <td>...</td>\n",
              "      <td>...</td>\n",
              "      <td>...</td>\n",
              "      <td>...</td>\n",
              "      <td>...</td>\n",
              "      <td>...</td>\n",
              "      <td>...</td>\n",
              "      <td>...</td>\n",
              "      <td>...</td>\n",
              "      <td>...</td>\n",
              "      <td>...</td>\n",
              "      <td>...</td>\n",
              "      <td>...</td>\n",
              "      <td>...</td>\n",
              "      <td>...</td>\n",
              "      <td>...</td>\n",
              "      <td>...</td>\n",
              "      <td>...</td>\n",
              "    </tr>\n",
              "    <tr>\n",
              "      <th>12</th>\n",
              "      <td>Russia</td>\n",
              "      <td>5</td>\n",
              "      <td>9</td>\n",
              "      <td>31</td>\n",
              "      <td>22.5%</td>\n",
              "      <td>12.5%</td>\n",
              "      <td>59</td>\n",
              "      <td>2</td>\n",
              "      <td>0</td>\n",
              "      <td>0</td>\n",
              "      <td>1</td>\n",
              "      <td>1602</td>\n",
              "      <td>1345</td>\n",
              "      <td>83.9%</td>\n",
              "      <td>2278</td>\n",
              "      <td>40</td>\n",
              "      <td>40</td>\n",
              "      <td>21</td>\n",
              "      <td>65</td>\n",
              "      <td>74</td>\n",
              "      <td>58</td>\n",
              "      <td>0.0</td>\n",
              "      <td>0</td>\n",
              "      <td>8</td>\n",
              "      <td>3</td>\n",
              "      <td>10</td>\n",
              "      <td>77.0%</td>\n",
              "      <td>34</td>\n",
              "      <td>43</td>\n",
              "      <td>4</td>\n",
              "      <td>6</td>\n",
              "      <td>0</td>\n",
              "    </tr>\n",
              "    <tr>\n",
              "      <th>13</th>\n",
              "      <td>Spain</td>\n",
              "      <td>12</td>\n",
              "      <td>42</td>\n",
              "      <td>33</td>\n",
              "      <td>55.9%</td>\n",
              "      <td>16.0%</td>\n",
              "      <td>100</td>\n",
              "      <td>0</td>\n",
              "      <td>1</td>\n",
              "      <td>0</td>\n",
              "      <td>2</td>\n",
              "      <td>4317</td>\n",
              "      <td>3820</td>\n",
              "      <td>88.4%</td>\n",
              "      <td>5585</td>\n",
              "      <td>69</td>\n",
              "      <td>106</td>\n",
              "      <td>44</td>\n",
              "      <td>122</td>\n",
              "      <td>102</td>\n",
              "      <td>79</td>\n",
              "      <td>0.0</td>\n",
              "      <td>5</td>\n",
              "      <td>8</td>\n",
              "      <td>1</td>\n",
              "      <td>15</td>\n",
              "      <td>93.8%</td>\n",
              "      <td>102</td>\n",
              "      <td>83</td>\n",
              "      <td>19</td>\n",
              "      <td>11</td>\n",
              "      <td>0</td>\n",
              "    </tr>\n",
              "    <tr>\n",
              "      <th>14</th>\n",
              "      <td>Sweden</td>\n",
              "      <td>5</td>\n",
              "      <td>17</td>\n",
              "      <td>19</td>\n",
              "      <td>47.2%</td>\n",
              "      <td>13.8%</td>\n",
              "      <td>39</td>\n",
              "      <td>3</td>\n",
              "      <td>0</td>\n",
              "      <td>0</td>\n",
              "      <td>1</td>\n",
              "      <td>1192</td>\n",
              "      <td>965</td>\n",
              "      <td>80.9%</td>\n",
              "      <td>1806</td>\n",
              "      <td>44</td>\n",
              "      <td>29</td>\n",
              "      <td>7</td>\n",
              "      <td>56</td>\n",
              "      <td>54</td>\n",
              "      <td>45</td>\n",
              "      <td>0.0</td>\n",
              "      <td>1</td>\n",
              "      <td>12</td>\n",
              "      <td>5</td>\n",
              "      <td>8</td>\n",
              "      <td>61.6%</td>\n",
              "      <td>35</td>\n",
              "      <td>51</td>\n",
              "      <td>7</td>\n",
              "      <td>7</td>\n",
              "      <td>0</td>\n",
              "    </tr>\n",
              "    <tr>\n",
              "      <th>15</th>\n",
              "      <td>Ukraine</td>\n",
              "      <td>2</td>\n",
              "      <td>7</td>\n",
              "      <td>26</td>\n",
              "      <td>21.2%</td>\n",
              "      <td>6.0%</td>\n",
              "      <td>38</td>\n",
              "      <td>0</td>\n",
              "      <td>0</td>\n",
              "      <td>0</td>\n",
              "      <td>2</td>\n",
              "      <td>1276</td>\n",
              "      <td>1043</td>\n",
              "      <td>81.7%</td>\n",
              "      <td>1894</td>\n",
              "      <td>33</td>\n",
              "      <td>26</td>\n",
              "      <td>18</td>\n",
              "      <td>65</td>\n",
              "      <td>97</td>\n",
              "      <td>29</td>\n",
              "      <td>0.0</td>\n",
              "      <td>0</td>\n",
              "      <td>4</td>\n",
              "      <td>4</td>\n",
              "      <td>13</td>\n",
              "      <td>76.5%</td>\n",
              "      <td>48</td>\n",
              "      <td>31</td>\n",
              "      <td>4</td>\n",
              "      <td>5</td>\n",
              "      <td>0</td>\n",
              "    </tr>\n",
              "  </tbody>\n",
              "</table>\n",
              "<p>16 rows × 32 columns</p>\n",
              "</div>"
            ],
            "text/plain": [
              "              Team  Goals  Shots on target  ...  Offsides Yellow Cards Red Cards\n",
              "0          Croatia      4               13  ...         2            9         0\n",
              "1   Czech Republic      4               13  ...         8            7         0\n",
              "2          Denmark      4               10  ...         8            4         0\n",
              "3          England      5               11  ...         6            5         0\n",
              "..             ...    ...              ...  ...       ...          ...       ...\n",
              "12          Russia      5                9  ...         4            6         0\n",
              "13           Spain     12               42  ...        19           11         0\n",
              "14          Sweden      5               17  ...         7            7         0\n",
              "15         Ukraine      2                7  ...         4            5         0\n",
              "\n",
              "[16 rows x 32 columns]"
            ]
          },
          "metadata": {
            "tags": []
          },
          "execution_count": 177
        }
      ]
    },
    {
      "cell_type": "markdown",
      "metadata": {
        "id": "zygc5Mq7UQgP",
        "colab_type": "text"
      },
      "source": [
        "Выведите только информацию из столбца 'Shooting Accuracy' для команд из Англии, Италии и России"
      ]
    },
    {
      "cell_type": "code",
      "metadata": {
        "id": "NXxfOh4jUQgR",
        "colab_type": "code",
        "outputId": "ff48ee3a-4d33-41c5-f5ef-6afaf5e30a53",
        "colab": {
          "base_uri": "https://localhost:8080/",
          "height": 143
        }
      },
      "source": [
        "euro12[['Shooting Accuracy','Team']].loc[[3,7,12]]"
      ],
      "execution_count": 0,
      "outputs": [
        {
          "output_type": "execute_result",
          "data": {
            "text/html": [
              "<div>\n",
              "<style scoped>\n",
              "    .dataframe tbody tr th:only-of-type {\n",
              "        vertical-align: middle;\n",
              "    }\n",
              "\n",
              "    .dataframe tbody tr th {\n",
              "        vertical-align: top;\n",
              "    }\n",
              "\n",
              "    .dataframe thead th {\n",
              "        text-align: right;\n",
              "    }\n",
              "</style>\n",
              "<table border=\"1\" class=\"dataframe\">\n",
              "  <thead>\n",
              "    <tr style=\"text-align: right;\">\n",
              "      <th></th>\n",
              "      <th>Shooting Accuracy</th>\n",
              "      <th>Team</th>\n",
              "    </tr>\n",
              "  </thead>\n",
              "  <tbody>\n",
              "    <tr>\n",
              "      <th>3</th>\n",
              "      <td>50.0%</td>\n",
              "      <td>England</td>\n",
              "    </tr>\n",
              "    <tr>\n",
              "      <th>7</th>\n",
              "      <td>43.0%</td>\n",
              "      <td>Italy</td>\n",
              "    </tr>\n",
              "    <tr>\n",
              "      <th>12</th>\n",
              "      <td>22.5%</td>\n",
              "      <td>Russia</td>\n",
              "    </tr>\n",
              "  </tbody>\n",
              "</table>\n",
              "</div>"
            ],
            "text/plain": [
              "   Shooting Accuracy     Team\n",
              "3              50.0%  England\n",
              "7              43.0%    Italy\n",
              "12             22.5%   Russia"
            ]
          },
          "metadata": {
            "tags": []
          },
          "execution_count": 206
        }
      ]
    },
    {
      "cell_type": "markdown",
      "metadata": {
        "id": "JKh_Mj2uUQgX",
        "colab_type": "text"
      },
      "source": [
        "# Группировка (groupby)"
      ]
    },
    {
      "cell_type": "markdown",
      "metadata": {
        "id": "0EiQBKqkUQgY",
        "colab_type": "text"
      },
      "source": [
        "Загрузите данные с 'https://raw.githubusercontent.com/justmarkham/DAT8/master/data/drinks.csv'"
      ]
    },
    {
      "cell_type": "code",
      "metadata": {
        "id": "G5NEBcHaUQga",
        "colab_type": "code",
        "outputId": "901cc7db-5164-40b2-b2c3-6d1214590c9f",
        "colab": {
          "base_uri": "https://localhost:8080/",
          "height": 206
        }
      },
      "source": [
        "df = pd.read_csv(\"gdrive/My Drive/Labs_Industry/data/drinks.csv\", sep=\",\")\n",
        "df.head()"
      ],
      "execution_count": 152,
      "outputs": [
        {
          "output_type": "execute_result",
          "data": {
            "text/html": [
              "<div>\n",
              "<style scoped>\n",
              "    .dataframe tbody tr th:only-of-type {\n",
              "        vertical-align: middle;\n",
              "    }\n",
              "\n",
              "    .dataframe tbody tr th {\n",
              "        vertical-align: top;\n",
              "    }\n",
              "\n",
              "    .dataframe thead th {\n",
              "        text-align: right;\n",
              "    }\n",
              "</style>\n",
              "<table border=\"1\" class=\"dataframe\">\n",
              "  <thead>\n",
              "    <tr style=\"text-align: right;\">\n",
              "      <th></th>\n",
              "      <th>country</th>\n",
              "      <th>beer_servings</th>\n",
              "      <th>spirit_servings</th>\n",
              "      <th>wine_servings</th>\n",
              "      <th>total_litres_of_pure_alcohol</th>\n",
              "      <th>continent</th>\n",
              "    </tr>\n",
              "  </thead>\n",
              "  <tbody>\n",
              "    <tr>\n",
              "      <th>0</th>\n",
              "      <td>Afghanistan</td>\n",
              "      <td>0</td>\n",
              "      <td>0</td>\n",
              "      <td>0</td>\n",
              "      <td>0.0</td>\n",
              "      <td>AS</td>\n",
              "    </tr>\n",
              "    <tr>\n",
              "      <th>1</th>\n",
              "      <td>Albania</td>\n",
              "      <td>89</td>\n",
              "      <td>132</td>\n",
              "      <td>54</td>\n",
              "      <td>4.9</td>\n",
              "      <td>EU</td>\n",
              "    </tr>\n",
              "    <tr>\n",
              "      <th>2</th>\n",
              "      <td>Algeria</td>\n",
              "      <td>25</td>\n",
              "      <td>0</td>\n",
              "      <td>14</td>\n",
              "      <td>0.7</td>\n",
              "      <td>AF</td>\n",
              "    </tr>\n",
              "    <tr>\n",
              "      <th>3</th>\n",
              "      <td>Andorra</td>\n",
              "      <td>245</td>\n",
              "      <td>138</td>\n",
              "      <td>312</td>\n",
              "      <td>12.4</td>\n",
              "      <td>EU</td>\n",
              "    </tr>\n",
              "    <tr>\n",
              "      <th>4</th>\n",
              "      <td>Angola</td>\n",
              "      <td>217</td>\n",
              "      <td>57</td>\n",
              "      <td>45</td>\n",
              "      <td>5.9</td>\n",
              "      <td>AF</td>\n",
              "    </tr>\n",
              "  </tbody>\n",
              "</table>\n",
              "</div>"
            ],
            "text/plain": [
              "       country  beer_servings  ...  total_litres_of_pure_alcohol  continent\n",
              "0  Afghanistan              0  ...                           0.0         AS\n",
              "1      Albania             89  ...                           4.9         EU\n",
              "2      Algeria             25  ...                           0.7         AF\n",
              "3      Andorra            245  ...                          12.4         EU\n",
              "4       Angola            217  ...                           5.9         AF\n",
              "\n",
              "[5 rows x 6 columns]"
            ]
          },
          "metadata": {
            "tags": []
          },
          "execution_count": 152
        }
      ]
    },
    {
      "cell_type": "markdown",
      "metadata": {
        "id": "QT3Fl1N_UQgi",
        "colab_type": "text"
      },
      "source": [
        "Какая из стран в среднем потребляет больше пива?"
      ]
    },
    {
      "cell_type": "code",
      "metadata": {
        "id": "7ZmYtaVsUQgj",
        "colab_type": "code",
        "outputId": "78f5e16e-d48f-49c2-992a-869ddfabed07",
        "colab": {
          "base_uri": "https://localhost:8080/",
          "height": 219
        }
      },
      "source": [
        "df1 = df.groupby('beer_servings')['country'].max()\n",
        "df1"
      ],
      "execution_count": 0,
      "outputs": [
        {
          "output_type": "execute_result",
          "data": {
            "text/plain": [
              "beer_servings\n",
              "0             Somalia\n",
              "1         Timor-Leste\n",
              "2          Tajikistan\n",
              "3               Niger\n",
              "            ...      \n",
              "346           Germany\n",
              "347             Gabon\n",
              "361    Czech Republic\n",
              "376           Namibia\n",
              "Name: country, Length: 130, dtype: object"
            ]
          },
          "metadata": {
            "tags": []
          },
          "execution_count": 429
        }
      ]
    },
    {
      "cell_type": "code",
      "metadata": {
        "id": "kb09mY8weSPV",
        "colab_type": "code",
        "outputId": "15bd320d-11a7-46e1-9159-049add668875",
        "colab": {
          "base_uri": "https://localhost:8080/",
          "height": 35
        }
      },
      "source": [
        "df.groupby('country')['beer_servings'].mean().max()"
      ],
      "execution_count": 0,
      "outputs": [
        {
          "output_type": "execute_result",
          "data": {
            "text/plain": [
              "376"
            ]
          },
          "metadata": {
            "tags": []
          },
          "execution_count": 427
        }
      ]
    },
    {
      "cell_type": "markdown",
      "metadata": {
        "id": "geT4jAtzUQgq",
        "colab_type": "text"
      },
      "source": [
        "Для каждой страны выведите основные статистики потребления вина"
      ]
    },
    {
      "cell_type": "code",
      "metadata": {
        "id": "bMT8H14-UQgs",
        "colab_type": "code",
        "outputId": "001eb737-daf4-4119-d882-52a1c255515e",
        "colab": {
          "base_uri": "https://localhost:8080/",
          "height": 392
        }
      },
      "source": [
        "df.groupby('country')['wine_servings'].agg(['count', 'mean', 'min', 'max'])"
      ],
      "execution_count": 0,
      "outputs": [
        {
          "output_type": "execute_result",
          "data": {
            "text/html": [
              "<div>\n",
              "<style scoped>\n",
              "    .dataframe tbody tr th:only-of-type {\n",
              "        vertical-align: middle;\n",
              "    }\n",
              "\n",
              "    .dataframe tbody tr th {\n",
              "        vertical-align: top;\n",
              "    }\n",
              "\n",
              "    .dataframe thead th {\n",
              "        text-align: right;\n",
              "    }\n",
              "</style>\n",
              "<table border=\"1\" class=\"dataframe\">\n",
              "  <thead>\n",
              "    <tr style=\"text-align: right;\">\n",
              "      <th></th>\n",
              "      <th>count</th>\n",
              "      <th>mean</th>\n",
              "      <th>min</th>\n",
              "      <th>max</th>\n",
              "    </tr>\n",
              "    <tr>\n",
              "      <th>country</th>\n",
              "      <th></th>\n",
              "      <th></th>\n",
              "      <th></th>\n",
              "      <th></th>\n",
              "    </tr>\n",
              "  </thead>\n",
              "  <tbody>\n",
              "    <tr>\n",
              "      <th>Afghanistan</th>\n",
              "      <td>1</td>\n",
              "      <td>0</td>\n",
              "      <td>0</td>\n",
              "      <td>0</td>\n",
              "    </tr>\n",
              "    <tr>\n",
              "      <th>Albania</th>\n",
              "      <td>1</td>\n",
              "      <td>54</td>\n",
              "      <td>54</td>\n",
              "      <td>54</td>\n",
              "    </tr>\n",
              "    <tr>\n",
              "      <th>Algeria</th>\n",
              "      <td>1</td>\n",
              "      <td>14</td>\n",
              "      <td>14</td>\n",
              "      <td>14</td>\n",
              "    </tr>\n",
              "    <tr>\n",
              "      <th>Andorra</th>\n",
              "      <td>1</td>\n",
              "      <td>312</td>\n",
              "      <td>312</td>\n",
              "      <td>312</td>\n",
              "    </tr>\n",
              "    <tr>\n",
              "      <th>...</th>\n",
              "      <td>...</td>\n",
              "      <td>...</td>\n",
              "      <td>...</td>\n",
              "      <td>...</td>\n",
              "    </tr>\n",
              "    <tr>\n",
              "      <th>Vietnam</th>\n",
              "      <td>1</td>\n",
              "      <td>1</td>\n",
              "      <td>1</td>\n",
              "      <td>1</td>\n",
              "    </tr>\n",
              "    <tr>\n",
              "      <th>Yemen</th>\n",
              "      <td>1</td>\n",
              "      <td>0</td>\n",
              "      <td>0</td>\n",
              "      <td>0</td>\n",
              "    </tr>\n",
              "    <tr>\n",
              "      <th>Zambia</th>\n",
              "      <td>1</td>\n",
              "      <td>4</td>\n",
              "      <td>4</td>\n",
              "      <td>4</td>\n",
              "    </tr>\n",
              "    <tr>\n",
              "      <th>Zimbabwe</th>\n",
              "      <td>1</td>\n",
              "      <td>4</td>\n",
              "      <td>4</td>\n",
              "      <td>4</td>\n",
              "    </tr>\n",
              "  </tbody>\n",
              "</table>\n",
              "<p>193 rows × 4 columns</p>\n",
              "</div>"
            ],
            "text/plain": [
              "             count  mean  min  max\n",
              "country                           \n",
              "Afghanistan      1     0    0    0\n",
              "Albania          1    54   54   54\n",
              "Algeria          1    14   14   14\n",
              "Andorra          1   312  312  312\n",
              "...            ...   ...  ...  ...\n",
              "Vietnam          1     1    1    1\n",
              "Yemen            1     0    0    0\n",
              "Zambia           1     4    4    4\n",
              "Zimbabwe         1     4    4    4\n",
              "\n",
              "[193 rows x 4 columns]"
            ]
          },
          "metadata": {
            "tags": []
          },
          "execution_count": 416
        }
      ]
    },
    {
      "cell_type": "markdown",
      "metadata": {
        "id": "krgQKJSfUQg3",
        "colab_type": "text"
      },
      "source": [
        "Выведите среднее потребление алкоголя по стране для каждого столбца"
      ]
    },
    {
      "cell_type": "code",
      "metadata": {
        "id": "hyc9Cm4uUQg5",
        "colab_type": "code",
        "outputId": "240a0bfe-312f-460d-ffc4-fb17a5b61caf",
        "colab": {
          "base_uri": "https://localhost:8080/",
          "height": 392
        }
      },
      "source": [
        "# точно по стране в а не по континенту считать??\n",
        "df.groupby('country')[['beer_servings','wine_servings','spirit_servings']].mean()"
      ],
      "execution_count": 0,
      "outputs": [
        {
          "output_type": "execute_result",
          "data": {
            "text/html": [
              "<div>\n",
              "<style scoped>\n",
              "    .dataframe tbody tr th:only-of-type {\n",
              "        vertical-align: middle;\n",
              "    }\n",
              "\n",
              "    .dataframe tbody tr th {\n",
              "        vertical-align: top;\n",
              "    }\n",
              "\n",
              "    .dataframe thead th {\n",
              "        text-align: right;\n",
              "    }\n",
              "</style>\n",
              "<table border=\"1\" class=\"dataframe\">\n",
              "  <thead>\n",
              "    <tr style=\"text-align: right;\">\n",
              "      <th></th>\n",
              "      <th>beer_servings</th>\n",
              "      <th>wine_servings</th>\n",
              "      <th>spirit_servings</th>\n",
              "    </tr>\n",
              "    <tr>\n",
              "      <th>country</th>\n",
              "      <th></th>\n",
              "      <th></th>\n",
              "      <th></th>\n",
              "    </tr>\n",
              "  </thead>\n",
              "  <tbody>\n",
              "    <tr>\n",
              "      <th>Afghanistan</th>\n",
              "      <td>0</td>\n",
              "      <td>0</td>\n",
              "      <td>0</td>\n",
              "    </tr>\n",
              "    <tr>\n",
              "      <th>Albania</th>\n",
              "      <td>89</td>\n",
              "      <td>54</td>\n",
              "      <td>132</td>\n",
              "    </tr>\n",
              "    <tr>\n",
              "      <th>Algeria</th>\n",
              "      <td>25</td>\n",
              "      <td>14</td>\n",
              "      <td>0</td>\n",
              "    </tr>\n",
              "    <tr>\n",
              "      <th>Andorra</th>\n",
              "      <td>245</td>\n",
              "      <td>312</td>\n",
              "      <td>138</td>\n",
              "    </tr>\n",
              "    <tr>\n",
              "      <th>...</th>\n",
              "      <td>...</td>\n",
              "      <td>...</td>\n",
              "      <td>...</td>\n",
              "    </tr>\n",
              "    <tr>\n",
              "      <th>Vietnam</th>\n",
              "      <td>111</td>\n",
              "      <td>1</td>\n",
              "      <td>2</td>\n",
              "    </tr>\n",
              "    <tr>\n",
              "      <th>Yemen</th>\n",
              "      <td>6</td>\n",
              "      <td>0</td>\n",
              "      <td>0</td>\n",
              "    </tr>\n",
              "    <tr>\n",
              "      <th>Zambia</th>\n",
              "      <td>32</td>\n",
              "      <td>4</td>\n",
              "      <td>19</td>\n",
              "    </tr>\n",
              "    <tr>\n",
              "      <th>Zimbabwe</th>\n",
              "      <td>64</td>\n",
              "      <td>4</td>\n",
              "      <td>18</td>\n",
              "    </tr>\n",
              "  </tbody>\n",
              "</table>\n",
              "<p>193 rows × 3 columns</p>\n",
              "</div>"
            ],
            "text/plain": [
              "             beer_servings  wine_servings  spirit_servings\n",
              "country                                                   \n",
              "Afghanistan              0              0                0\n",
              "Albania                 89             54              132\n",
              "Algeria                 25             14                0\n",
              "Andorra                245            312              138\n",
              "...                    ...            ...              ...\n",
              "Vietnam                111              1                2\n",
              "Yemen                    6              0                0\n",
              "Zambia                  32              4               19\n",
              "Zimbabwe                64              4               18\n",
              "\n",
              "[193 rows x 3 columns]"
            ]
          },
          "metadata": {
            "tags": []
          },
          "execution_count": 469
        }
      ]
    },
    {
      "cell_type": "code",
      "metadata": {
        "id": "Dd7Y-g2gv4n1",
        "colab_type": "code",
        "outputId": "04592342-014f-4b85-fda8-00c70b9518ed",
        "colab": {
          "base_uri": "https://localhost:8080/",
          "height": 238
        }
      },
      "source": [
        "# по континенту посчитал среднее\n",
        "df.groupby('continent')[['beer_servings','wine_servings','spirit_servings']].mean()"
      ],
      "execution_count": 0,
      "outputs": [
        {
          "output_type": "execute_result",
          "data": {
            "text/html": [
              "<div>\n",
              "<style scoped>\n",
              "    .dataframe tbody tr th:only-of-type {\n",
              "        vertical-align: middle;\n",
              "    }\n",
              "\n",
              "    .dataframe tbody tr th {\n",
              "        vertical-align: top;\n",
              "    }\n",
              "\n",
              "    .dataframe thead th {\n",
              "        text-align: right;\n",
              "    }\n",
              "</style>\n",
              "<table border=\"1\" class=\"dataframe\">\n",
              "  <thead>\n",
              "    <tr style=\"text-align: right;\">\n",
              "      <th></th>\n",
              "      <th>beer_servings</th>\n",
              "      <th>wine_servings</th>\n",
              "      <th>spirit_servings</th>\n",
              "    </tr>\n",
              "    <tr>\n",
              "      <th>continent</th>\n",
              "      <th></th>\n",
              "      <th></th>\n",
              "      <th></th>\n",
              "    </tr>\n",
              "  </thead>\n",
              "  <tbody>\n",
              "    <tr>\n",
              "      <th>AF</th>\n",
              "      <td>61.471698</td>\n",
              "      <td>16.264151</td>\n",
              "      <td>16.339623</td>\n",
              "    </tr>\n",
              "    <tr>\n",
              "      <th>AS</th>\n",
              "      <td>37.045455</td>\n",
              "      <td>9.068182</td>\n",
              "      <td>60.840909</td>\n",
              "    </tr>\n",
              "    <tr>\n",
              "      <th>EU</th>\n",
              "      <td>193.777778</td>\n",
              "      <td>142.222222</td>\n",
              "      <td>132.555556</td>\n",
              "    </tr>\n",
              "    <tr>\n",
              "      <th>OC</th>\n",
              "      <td>89.687500</td>\n",
              "      <td>35.625000</td>\n",
              "      <td>58.437500</td>\n",
              "    </tr>\n",
              "    <tr>\n",
              "      <th>SA</th>\n",
              "      <td>175.083333</td>\n",
              "      <td>62.416667</td>\n",
              "      <td>114.750000</td>\n",
              "    </tr>\n",
              "  </tbody>\n",
              "</table>\n",
              "</div>"
            ],
            "text/plain": [
              "           beer_servings  wine_servings  spirit_servings\n",
              "continent                                               \n",
              "AF             61.471698      16.264151        16.339623\n",
              "AS             37.045455       9.068182        60.840909\n",
              "EU            193.777778     142.222222       132.555556\n",
              "OC             89.687500      35.625000        58.437500\n",
              "SA            175.083333      62.416667       114.750000"
            ]
          },
          "metadata": {
            "tags": []
          },
          "execution_count": 467
        }
      ]
    },
    {
      "cell_type": "markdown",
      "metadata": {
        "id": "GQnwHTfxUQg_",
        "colab_type": "text"
      },
      "source": [
        "# Объединение (merge, join, concat)"
      ]
    },
    {
      "cell_type": "markdown",
      "metadata": {
        "id": "dbzxS28zUQg_",
        "colab_type": "text"
      },
      "source": [
        "Создайте 3 временных ряда (pandas.Series), каждый длиной 100 элементов, заполнив их следующим образом:\n",
        "1. Случайными числами от 1 до 4\n",
        "2. Случайными числами от 1 до 3\n",
        "3. Случайными числами от 10 000 до 30 000"
      ]
    },
    {
      "cell_type": "code",
      "metadata": {
        "id": "A7IeS0K9UQhB",
        "colab_type": "code",
        "colab": {}
      },
      "source": [
        "arr1 = np.linspace(1,4,100)\n",
        "arr2 = np.linspace(1,3,100)\n",
        "arr3 = np.linspace(10000,30000,100)\n",
        "df1 = pd.Series(arr1)\n",
        "df2 = pd.Series(arr2)\n",
        "df3 = pd.Series(arr3)"
      ],
      "execution_count": 0,
      "outputs": []
    },
    {
      "cell_type": "markdown",
      "metadata": {
        "id": "wEX2k9goUQhJ",
        "colab_type": "text"
      },
      "source": [
        "Создайте из них pandas.DataFrame размерности (100, 3)"
      ]
    },
    {
      "cell_type": "code",
      "metadata": {
        "id": "CTcysq-2zrzr",
        "colab_type": "code",
        "outputId": "25e21fcf-63ad-4ea0-b61a-0637ec5735db",
        "colab": {
          "base_uri": "https://localhost:8080/",
          "height": 35
        }
      },
      "source": [
        "frame = {'col1': df1, 'col2': df2, 'col3':df3}\n",
        "data = pd.DataFrame(frame)\n",
        "data.shape"
      ],
      "execution_count": 0,
      "outputs": [
        {
          "output_type": "execute_result",
          "data": {
            "text/plain": [
              "(100, 3)"
            ]
          },
          "metadata": {
            "tags": []
          },
          "execution_count": 18
        }
      ]
    },
    {
      "cell_type": "markdown",
      "metadata": {
        "id": "6I0sr9kUUQhU",
        "colab_type": "text"
      },
      "source": [
        "Замените названия столбцов на `bedrs`, `bathrs`, `price_sqr_meter`, соответственно"
      ]
    },
    {
      "cell_type": "code",
      "metadata": {
        "id": "E5lYXGjRUQhW",
        "colab_type": "code",
        "outputId": "58bba3c5-50a5-4650-9a85-8e0be9202aea",
        "colab": {
          "base_uri": "https://localhost:8080/",
          "height": 35
        }
      },
      "source": [
        "data.columns = ['bedrs','bathrs','price_sql_meter']\n",
        "data.columns"
      ],
      "execution_count": 0,
      "outputs": [
        {
          "output_type": "execute_result",
          "data": {
            "text/plain": [
              "Index(['bedrs', 'bathrs', 'price_sql_meter'], dtype='object')"
            ]
          },
          "metadata": {
            "tags": []
          },
          "execution_count": 21
        }
      ]
    },
    {
      "cell_type": "markdown",
      "metadata": {
        "id": "N1BIrQekUQhc",
        "colab_type": "text"
      },
      "source": [
        "Создайте из 3 pandas.Series датафрейм, состоящий из одного столбца (300, 1)"
      ]
    },
    {
      "cell_type": "code",
      "metadata": {
        "id": "9VNz1zxoUQhc",
        "colab_type": "code",
        "outputId": "8166c8e8-658f-4fe8-dee8-ded55226ebc8",
        "colab": {
          "base_uri": "https://localhost:8080/",
          "height": 35
        }
      },
      "source": [
        "frame = pd.concat([df1, df2, df3])\n",
        "frame = {'col1': frame}\n",
        "data = pd.DataFrame(frame)\n",
        "data.shape"
      ],
      "execution_count": 0,
      "outputs": [
        {
          "output_type": "execute_result",
          "data": {
            "text/plain": [
              "(300, 1)"
            ]
          },
          "metadata": {
            "tags": []
          },
          "execution_count": 60
        }
      ]
    },
    {
      "cell_type": "markdown",
      "metadata": {
        "id": "4Y62D9BvUQhi",
        "colab_type": "text"
      },
      "source": [
        "Реиндексируйте последний созданный датафрейм"
      ]
    },
    {
      "cell_type": "code",
      "metadata": {
        "id": "OOQ4K9Z3siWt",
        "colab_type": "code",
        "outputId": "00f9f4d1-d255-4617-ffe5-3c5e780076f7",
        "colab": {
          "base_uri": "https://localhost:8080/",
          "height": 361
        }
      },
      "source": [
        "data.reset_index(inplace=True, drop=True)\n",
        "data"
      ],
      "execution_count": 0,
      "outputs": [
        {
          "output_type": "execute_result",
          "data": {
            "text/html": [
              "<div>\n",
              "<style scoped>\n",
              "    .dataframe tbody tr th:only-of-type {\n",
              "        vertical-align: middle;\n",
              "    }\n",
              "\n",
              "    .dataframe tbody tr th {\n",
              "        vertical-align: top;\n",
              "    }\n",
              "\n",
              "    .dataframe thead th {\n",
              "        text-align: right;\n",
              "    }\n",
              "</style>\n",
              "<table border=\"1\" class=\"dataframe\">\n",
              "  <thead>\n",
              "    <tr style=\"text-align: right;\">\n",
              "      <th></th>\n",
              "      <th>col1</th>\n",
              "    </tr>\n",
              "  </thead>\n",
              "  <tbody>\n",
              "    <tr>\n",
              "      <th>0</th>\n",
              "      <td>1.000000</td>\n",
              "    </tr>\n",
              "    <tr>\n",
              "      <th>1</th>\n",
              "      <td>1.030303</td>\n",
              "    </tr>\n",
              "    <tr>\n",
              "      <th>2</th>\n",
              "      <td>1.060606</td>\n",
              "    </tr>\n",
              "    <tr>\n",
              "      <th>3</th>\n",
              "      <td>1.090909</td>\n",
              "    </tr>\n",
              "    <tr>\n",
              "      <th>...</th>\n",
              "      <td>...</td>\n",
              "    </tr>\n",
              "    <tr>\n",
              "      <th>296</th>\n",
              "      <td>29393.939394</td>\n",
              "    </tr>\n",
              "    <tr>\n",
              "      <th>297</th>\n",
              "      <td>29595.959596</td>\n",
              "    </tr>\n",
              "    <tr>\n",
              "      <th>298</th>\n",
              "      <td>29797.979798</td>\n",
              "    </tr>\n",
              "    <tr>\n",
              "      <th>299</th>\n",
              "      <td>30000.000000</td>\n",
              "    </tr>\n",
              "  </tbody>\n",
              "</table>\n",
              "<p>300 rows × 1 columns</p>\n",
              "</div>"
            ],
            "text/plain": [
              "             col1\n",
              "0        1.000000\n",
              "1        1.030303\n",
              "2        1.060606\n",
              "3        1.090909\n",
              "..            ...\n",
              "296  29393.939394\n",
              "297  29595.959596\n",
              "298  29797.979798\n",
              "299  30000.000000\n",
              "\n",
              "[300 rows x 1 columns]"
            ]
          },
          "metadata": {
            "tags": []
          },
          "execution_count": 74
        }
      ]
    },
    {
      "cell_type": "markdown",
      "metadata": {
        "id": "Tqtm7ckHUQhr",
        "colab_type": "text"
      },
      "source": [
        "# Временные ряды"
      ]
    },
    {
      "cell_type": "markdown",
      "metadata": {
        "id": "F7jjYZVkUQhs",
        "colab_type": "text"
      },
      "source": [
        "Импортируйте данные `appl_1980_2014.csv` и присвойте их переменной $apple$"
      ]
    },
    {
      "cell_type": "code",
      "metadata": {
        "id": "lJrhYi7nUQht",
        "colab_type": "code",
        "colab": {
          "base_uri": "https://localhost:8080/",
          "height": 206
        },
        "outputId": "1c86bfb7-179b-4438-a669-eef083396e52"
      },
      "source": [
        "apple = pd.read_csv(\"gdrive/My Drive/Labs_Industry/data/appl_1980_2014.csv\", sep=\",\")\n",
        "apple.head()"
      ],
      "execution_count": 153,
      "outputs": [
        {
          "output_type": "execute_result",
          "data": {
            "text/html": [
              "<div>\n",
              "<style scoped>\n",
              "    .dataframe tbody tr th:only-of-type {\n",
              "        vertical-align: middle;\n",
              "    }\n",
              "\n",
              "    .dataframe tbody tr th {\n",
              "        vertical-align: top;\n",
              "    }\n",
              "\n",
              "    .dataframe thead th {\n",
              "        text-align: right;\n",
              "    }\n",
              "</style>\n",
              "<table border=\"1\" class=\"dataframe\">\n",
              "  <thead>\n",
              "    <tr style=\"text-align: right;\">\n",
              "      <th></th>\n",
              "      <th>Date</th>\n",
              "      <th>Open</th>\n",
              "      <th>High</th>\n",
              "      <th>Low</th>\n",
              "      <th>Close</th>\n",
              "      <th>Volume</th>\n",
              "      <th>Adj Close</th>\n",
              "    </tr>\n",
              "  </thead>\n",
              "  <tbody>\n",
              "    <tr>\n",
              "      <th>0</th>\n",
              "      <td>2014-07-08</td>\n",
              "      <td>96.27</td>\n",
              "      <td>96.80</td>\n",
              "      <td>93.92</td>\n",
              "      <td>95.35</td>\n",
              "      <td>65130000</td>\n",
              "      <td>95.35</td>\n",
              "    </tr>\n",
              "    <tr>\n",
              "      <th>1</th>\n",
              "      <td>2014-07-07</td>\n",
              "      <td>94.14</td>\n",
              "      <td>95.99</td>\n",
              "      <td>94.10</td>\n",
              "      <td>95.97</td>\n",
              "      <td>56305400</td>\n",
              "      <td>95.97</td>\n",
              "    </tr>\n",
              "    <tr>\n",
              "      <th>2</th>\n",
              "      <td>2014-07-03</td>\n",
              "      <td>93.67</td>\n",
              "      <td>94.10</td>\n",
              "      <td>93.20</td>\n",
              "      <td>94.03</td>\n",
              "      <td>22891800</td>\n",
              "      <td>94.03</td>\n",
              "    </tr>\n",
              "    <tr>\n",
              "      <th>3</th>\n",
              "      <td>2014-07-02</td>\n",
              "      <td>93.87</td>\n",
              "      <td>94.06</td>\n",
              "      <td>93.09</td>\n",
              "      <td>93.48</td>\n",
              "      <td>28420900</td>\n",
              "      <td>93.48</td>\n",
              "    </tr>\n",
              "    <tr>\n",
              "      <th>4</th>\n",
              "      <td>2014-07-01</td>\n",
              "      <td>93.52</td>\n",
              "      <td>94.07</td>\n",
              "      <td>93.13</td>\n",
              "      <td>93.52</td>\n",
              "      <td>38170200</td>\n",
              "      <td>93.52</td>\n",
              "    </tr>\n",
              "  </tbody>\n",
              "</table>\n",
              "</div>"
            ],
            "text/plain": [
              "         Date   Open   High    Low  Close    Volume  Adj Close\n",
              "0  2014-07-08  96.27  96.80  93.92  95.35  65130000      95.35\n",
              "1  2014-07-07  94.14  95.99  94.10  95.97  56305400      95.97\n",
              "2  2014-07-03  93.67  94.10  93.20  94.03  22891800      94.03\n",
              "3  2014-07-02  93.87  94.06  93.09  93.48  28420900      93.48\n",
              "4  2014-07-01  93.52  94.07  93.13  93.52  38170200      93.52"
            ]
          },
          "metadata": {
            "tags": []
          },
          "execution_count": 153
        }
      ]
    },
    {
      "cell_type": "markdown",
      "metadata": {
        "id": "ocfGtAhGUQhx",
        "colab_type": "text"
      },
      "source": [
        "Выведите типы значений столбцов датафрейма $apple$"
      ]
    },
    {
      "cell_type": "code",
      "metadata": {
        "id": "v0vo0VkUUQhy",
        "colab_type": "code",
        "colab": {
          "base_uri": "https://localhost:8080/",
          "height": 165
        },
        "outputId": "a452cc3d-3e15-4d4e-c6ab-e03cd6a9d137"
      },
      "source": [
        "apple.dtypes"
      ],
      "execution_count": 154,
      "outputs": [
        {
          "output_type": "execute_result",
          "data": {
            "text/plain": [
              "Date          object\n",
              "Open         float64\n",
              "High         float64\n",
              "Low          float64\n",
              "Close        float64\n",
              "Volume         int64\n",
              "Adj Close    float64\n",
              "dtype: object"
            ]
          },
          "metadata": {
            "tags": []
          },
          "execution_count": 154
        }
      ]
    },
    {
      "cell_type": "markdown",
      "metadata": {
        "id": "0ycU-R6eUQh4",
        "colab_type": "text"
      },
      "source": [
        "Преобразуйте тип столбца `Date` в `datetime` (pandas.to_datetime)"
      ]
    },
    {
      "cell_type": "code",
      "metadata": {
        "id": "ckZxJo-1InfQ",
        "colab_type": "code",
        "colab": {
          "base_uri": "https://localhost:8080/",
          "height": 165
        },
        "outputId": "695c337b-4e3c-4e33-e9c0-7513442e3608"
      },
      "source": [
        "apple['Date'] = pd.to_datetime(apple['Date'])\n",
        "apple.dtypes"
      ],
      "execution_count": 155,
      "outputs": [
        {
          "output_type": "execute_result",
          "data": {
            "text/plain": [
              "Date         datetime64[ns]\n",
              "Open                float64\n",
              "High                float64\n",
              "Low                 float64\n",
              "Close               float64\n",
              "Volume                int64\n",
              "Adj Close           float64\n",
              "dtype: object"
            ]
          },
          "metadata": {
            "tags": []
          },
          "execution_count": 155
        }
      ]
    },
    {
      "cell_type": "markdown",
      "metadata": {
        "id": "2DCo7C9NUQh_",
        "colab_type": "text"
      },
      "source": [
        "Сделайте столбец `Date` столбцом индексов датафрейма $apple$"
      ]
    },
    {
      "cell_type": "code",
      "metadata": {
        "id": "h6tVoNJZUQiA",
        "colab_type": "code",
        "colab": {}
      },
      "source": [
        "apple = apple.set_index('Date')"
      ],
      "execution_count": 0,
      "outputs": []
    },
    {
      "cell_type": "markdown",
      "metadata": {
        "id": "LVxLg4L-UQiF",
        "colab_type": "text"
      },
      "source": [
        "Проверьте индексы $apple$ на наличие дублирующихся дат"
      ]
    },
    {
      "cell_type": "code",
      "metadata": {
        "id": "d9Pb6fewUQiF",
        "colab_type": "code",
        "colab": {
          "base_uri": "https://localhost:8080/",
          "height": 35
        },
        "outputId": "2a435f94-8b65-4cb5-b5c4-1b7835799cd3"
      },
      "source": [
        "apple.index.duplicated(keep=False)\n",
        "#apple.index[apple.index.duplicated()].unique()\n",
        "#apple.Date[apple.duplicated()]"
      ],
      "execution_count": 157,
      "outputs": [
        {
          "output_type": "execute_result",
          "data": {
            "text/plain": [
              "array([False, False, False, ..., False, False, False])"
            ]
          },
          "metadata": {
            "tags": []
          },
          "execution_count": 157
        }
      ]
    },
    {
      "cell_type": "markdown",
      "metadata": {
        "id": "bMSROXLQUQiL",
        "colab_type": "text"
      },
      "source": [
        "Отсортируйте значения $apple$ по возрастанию дат"
      ]
    },
    {
      "cell_type": "code",
      "metadata": {
        "id": "AtzkbKKqUQiM",
        "colab_type": "code",
        "colab": {
          "base_uri": "https://localhost:8080/",
          "height": 238
        },
        "outputId": "96dcf43a-ff90-45cf-dd79-6edc7dbdc903"
      },
      "source": [
        "apple = apple.sort_values(by='Date')\n",
        "apple.head()"
      ],
      "execution_count": 162,
      "outputs": [
        {
          "output_type": "execute_result",
          "data": {
            "text/html": [
              "<div>\n",
              "<style scoped>\n",
              "    .dataframe tbody tr th:only-of-type {\n",
              "        vertical-align: middle;\n",
              "    }\n",
              "\n",
              "    .dataframe tbody tr th {\n",
              "        vertical-align: top;\n",
              "    }\n",
              "\n",
              "    .dataframe thead th {\n",
              "        text-align: right;\n",
              "    }\n",
              "</style>\n",
              "<table border=\"1\" class=\"dataframe\">\n",
              "  <thead>\n",
              "    <tr style=\"text-align: right;\">\n",
              "      <th></th>\n",
              "      <th>Open</th>\n",
              "      <th>High</th>\n",
              "      <th>Low</th>\n",
              "      <th>Close</th>\n",
              "      <th>Volume</th>\n",
              "      <th>Adj Close</th>\n",
              "    </tr>\n",
              "    <tr>\n",
              "      <th>Date</th>\n",
              "      <th></th>\n",
              "      <th></th>\n",
              "      <th></th>\n",
              "      <th></th>\n",
              "      <th></th>\n",
              "      <th></th>\n",
              "    </tr>\n",
              "  </thead>\n",
              "  <tbody>\n",
              "    <tr>\n",
              "      <th>1980-12-12</th>\n",
              "      <td>28.75</td>\n",
              "      <td>28.87</td>\n",
              "      <td>28.75</td>\n",
              "      <td>28.75</td>\n",
              "      <td>117258400</td>\n",
              "      <td>0.45</td>\n",
              "    </tr>\n",
              "    <tr>\n",
              "      <th>1980-12-15</th>\n",
              "      <td>27.38</td>\n",
              "      <td>27.38</td>\n",
              "      <td>27.25</td>\n",
              "      <td>27.25</td>\n",
              "      <td>43971200</td>\n",
              "      <td>0.42</td>\n",
              "    </tr>\n",
              "    <tr>\n",
              "      <th>1980-12-16</th>\n",
              "      <td>25.37</td>\n",
              "      <td>25.37</td>\n",
              "      <td>25.25</td>\n",
              "      <td>25.25</td>\n",
              "      <td>26432000</td>\n",
              "      <td>0.39</td>\n",
              "    </tr>\n",
              "    <tr>\n",
              "      <th>1980-12-17</th>\n",
              "      <td>25.87</td>\n",
              "      <td>26.00</td>\n",
              "      <td>25.87</td>\n",
              "      <td>25.87</td>\n",
              "      <td>21610400</td>\n",
              "      <td>0.40</td>\n",
              "    </tr>\n",
              "    <tr>\n",
              "      <th>1980-12-18</th>\n",
              "      <td>26.63</td>\n",
              "      <td>26.75</td>\n",
              "      <td>26.63</td>\n",
              "      <td>26.63</td>\n",
              "      <td>18362400</td>\n",
              "      <td>0.41</td>\n",
              "    </tr>\n",
              "  </tbody>\n",
              "</table>\n",
              "</div>"
            ],
            "text/plain": [
              "             Open   High    Low  Close     Volume  Adj Close\n",
              "Date                                                        \n",
              "1980-12-12  28.75  28.87  28.75  28.75  117258400       0.45\n",
              "1980-12-15  27.38  27.38  27.25  27.25   43971200       0.42\n",
              "1980-12-16  25.37  25.37  25.25  25.25   26432000       0.39\n",
              "1980-12-17  25.87  26.00  25.87  25.87   21610400       0.40\n",
              "1980-12-18  26.63  26.75  26.63  26.63   18362400       0.41"
            ]
          },
          "metadata": {
            "tags": []
          },
          "execution_count": 162
        }
      ]
    },
    {
      "cell_type": "markdown",
      "metadata": {
        "id": "dMD4yBOEUQiQ",
        "colab_type": "text"
      },
      "source": [
        "Создайте датафрейм $apple\\_month$ и заполните его значениями за последний бизнесс-день каждого месяца"
      ]
    },
    {
      "cell_type": "code",
      "metadata": {
        "id": "PI7Wz6NCUQiQ",
        "colab_type": "code",
        "colab": {
          "base_uri": "https://localhost:8080/",
          "height": 238
        },
        "outputId": "6acf4faa-5ba0-4e66-bd72-56feff37d79e"
      },
      "source": [
        "#pd.set_option('display.max_rows', apple.shape[0]+1)\n",
        "apple_month = apple.pivot_table(index='Date')\n",
        "apple_month.head()"
      ],
      "execution_count": 183,
      "outputs": [
        {
          "output_type": "execute_result",
          "data": {
            "text/html": [
              "<div>\n",
              "<style scoped>\n",
              "    .dataframe tbody tr th:only-of-type {\n",
              "        vertical-align: middle;\n",
              "    }\n",
              "\n",
              "    .dataframe tbody tr th {\n",
              "        vertical-align: top;\n",
              "    }\n",
              "\n",
              "    .dataframe thead th {\n",
              "        text-align: right;\n",
              "    }\n",
              "</style>\n",
              "<table border=\"1\" class=\"dataframe\">\n",
              "  <thead>\n",
              "    <tr style=\"text-align: right;\">\n",
              "      <th></th>\n",
              "      <th>Adj Close</th>\n",
              "      <th>Close</th>\n",
              "      <th>High</th>\n",
              "      <th>Low</th>\n",
              "      <th>Open</th>\n",
              "      <th>Volume</th>\n",
              "    </tr>\n",
              "    <tr>\n",
              "      <th>Date</th>\n",
              "      <th></th>\n",
              "      <th></th>\n",
              "      <th></th>\n",
              "      <th></th>\n",
              "      <th></th>\n",
              "      <th></th>\n",
              "    </tr>\n",
              "  </thead>\n",
              "  <tbody>\n",
              "    <tr>\n",
              "      <th>1980-12-12</th>\n",
              "      <td>0.45</td>\n",
              "      <td>28.75</td>\n",
              "      <td>28.87</td>\n",
              "      <td>28.75</td>\n",
              "      <td>28.75</td>\n",
              "      <td>117258400</td>\n",
              "    </tr>\n",
              "    <tr>\n",
              "      <th>1980-12-15</th>\n",
              "      <td>0.42</td>\n",
              "      <td>27.25</td>\n",
              "      <td>27.38</td>\n",
              "      <td>27.25</td>\n",
              "      <td>27.38</td>\n",
              "      <td>43971200</td>\n",
              "    </tr>\n",
              "    <tr>\n",
              "      <th>1980-12-16</th>\n",
              "      <td>0.39</td>\n",
              "      <td>25.25</td>\n",
              "      <td>25.37</td>\n",
              "      <td>25.25</td>\n",
              "      <td>25.37</td>\n",
              "      <td>26432000</td>\n",
              "    </tr>\n",
              "    <tr>\n",
              "      <th>1980-12-17</th>\n",
              "      <td>0.40</td>\n",
              "      <td>25.87</td>\n",
              "      <td>26.00</td>\n",
              "      <td>25.87</td>\n",
              "      <td>25.87</td>\n",
              "      <td>21610400</td>\n",
              "    </tr>\n",
              "    <tr>\n",
              "      <th>1980-12-18</th>\n",
              "      <td>0.41</td>\n",
              "      <td>26.63</td>\n",
              "      <td>26.75</td>\n",
              "      <td>26.63</td>\n",
              "      <td>26.63</td>\n",
              "      <td>18362400</td>\n",
              "    </tr>\n",
              "  </tbody>\n",
              "</table>\n",
              "</div>"
            ],
            "text/plain": [
              "            Adj Close  Close   High    Low   Open     Volume\n",
              "Date                                                        \n",
              "1980-12-12       0.45  28.75  28.87  28.75  28.75  117258400\n",
              "1980-12-15       0.42  27.25  27.38  27.25  27.38   43971200\n",
              "1980-12-16       0.39  25.25  25.37  25.25  25.37   26432000\n",
              "1980-12-17       0.40  25.87  26.00  25.87  25.87   21610400\n",
              "1980-12-18       0.41  26.63  26.75  26.63  26.63   18362400"
            ]
          },
          "metadata": {
            "tags": []
          },
          "execution_count": 183
        }
      ]
    },
    {
      "cell_type": "code",
      "metadata": {
        "id": "uqlYKExhii-N",
        "colab_type": "code",
        "colab": {
          "base_uri": "https://localhost:8080/",
          "height": 238
        },
        "outputId": "05f5e7c4-26b3-4714-995a-63b35d3b1306"
      },
      "source": [
        "#apple.index = apple.index + pd.offsets.MonthEnd(0)\n",
        "last_d = apple_month.groupby(apple_month.index.strftime('%Y-%m')).tail(1)"
      ],
      "execution_count": 188,
      "outputs": [
        {
          "output_type": "execute_result",
          "data": {
            "text/html": [
              "<div>\n",
              "<style scoped>\n",
              "    .dataframe tbody tr th:only-of-type {\n",
              "        vertical-align: middle;\n",
              "    }\n",
              "\n",
              "    .dataframe tbody tr th {\n",
              "        vertical-align: top;\n",
              "    }\n",
              "\n",
              "    .dataframe thead th {\n",
              "        text-align: right;\n",
              "    }\n",
              "</style>\n",
              "<table border=\"1\" class=\"dataframe\">\n",
              "  <thead>\n",
              "    <tr style=\"text-align: right;\">\n",
              "      <th></th>\n",
              "      <th>Adj Close</th>\n",
              "      <th>Close</th>\n",
              "      <th>High</th>\n",
              "      <th>Low</th>\n",
              "      <th>Open</th>\n",
              "      <th>Volume</th>\n",
              "    </tr>\n",
              "    <tr>\n",
              "      <th>Date</th>\n",
              "      <th></th>\n",
              "      <th></th>\n",
              "      <th></th>\n",
              "      <th></th>\n",
              "      <th></th>\n",
              "      <th></th>\n",
              "    </tr>\n",
              "  </thead>\n",
              "  <tbody>\n",
              "    <tr>\n",
              "      <th>1980-12-31</th>\n",
              "      <td>0.53</td>\n",
              "      <td>34.13</td>\n",
              "      <td>34.25</td>\n",
              "      <td>34.13</td>\n",
              "      <td>34.25</td>\n",
              "      <td>8937600</td>\n",
              "    </tr>\n",
              "    <tr>\n",
              "      <th>1981-01-30</th>\n",
              "      <td>0.44</td>\n",
              "      <td>28.25</td>\n",
              "      <td>28.50</td>\n",
              "      <td>28.25</td>\n",
              "      <td>28.50</td>\n",
              "      <td>11547200</td>\n",
              "    </tr>\n",
              "    <tr>\n",
              "      <th>1981-02-27</th>\n",
              "      <td>0.41</td>\n",
              "      <td>26.50</td>\n",
              "      <td>26.75</td>\n",
              "      <td>26.50</td>\n",
              "      <td>26.50</td>\n",
              "      <td>3690400</td>\n",
              "    </tr>\n",
              "    <tr>\n",
              "      <th>1981-03-31</th>\n",
              "      <td>0.38</td>\n",
              "      <td>24.50</td>\n",
              "      <td>24.75</td>\n",
              "      <td>24.50</td>\n",
              "      <td>24.75</td>\n",
              "      <td>3998400</td>\n",
              "    </tr>\n",
              "    <tr>\n",
              "      <th>1981-04-30</th>\n",
              "      <td>0.44</td>\n",
              "      <td>28.38</td>\n",
              "      <td>28.62</td>\n",
              "      <td>28.38</td>\n",
              "      <td>28.38</td>\n",
              "      <td>3152800</td>\n",
              "    </tr>\n",
              "  </tbody>\n",
              "</table>\n",
              "</div>"
            ],
            "text/plain": [
              "            Adj Close  Close   High    Low   Open    Volume\n",
              "Date                                                       \n",
              "1980-12-31       0.53  34.13  34.25  34.13  34.25   8937600\n",
              "1981-01-30       0.44  28.25  28.50  28.25  28.50  11547200\n",
              "1981-02-27       0.41  26.50  26.75  26.50  26.50   3690400\n",
              "1981-03-31       0.38  24.50  24.75  24.50  24.75   3998400\n",
              "1981-04-30       0.44  28.38  28.62  28.38  28.38   3152800"
            ]
          },
          "metadata": {
            "tags": []
          },
          "execution_count": 188
        }
      ]
    },
    {
      "cell_type": "markdown",
      "metadata": {
        "id": "MBw71gOtUQiX",
        "colab_type": "text"
      },
      "source": [
        "Постройте график цены закрытия"
      ]
    },
    {
      "cell_type": "code",
      "metadata": {
        "id": "iMqx9mjeUQiZ",
        "colab_type": "code",
        "colab": {
          "base_uri": "https://localhost:8080/",
          "height": 374
        },
        "outputId": "f918bae8-7dad-4ffb-9df9-2b5cc2745ca3"
      },
      "source": [
        "y = apple_month['Close']\n",
        "x = apple_month.index\n",
        "fig, ax = plt.subplots(figsize=(10,6))\n",
        "ax.set_ylim(0,720)\n",
        "plt.plot(x,y)\n",
        "plt.show()"
      ],
      "execution_count": 212,
      "outputs": [
        {
          "output_type": "display_data",
          "data": {
            "image/png": "[encoded data removed]",
            "text/plain": [
              "<Figure size 720x432 with 1 Axes>"
            ]
          },
          "metadata": {
            "tags": [],
            "needs_background": "light"
          }
        }
      ]
    },
    {
      "cell_type": "markdown",
      "metadata": {
        "id": "MJLKBKYBUQie",
        "colab_type": "text"
      },
      "source": [
        "Подсчитайте объем торгов за июнь 2014 года"
      ]
    },
    {
      "cell_type": "code",
      "metadata": {
        "id": "i-LyAMeuUQie",
        "colab_type": "code",
        "colab": {
          "base_uri": "https://localhost:8080/",
          "height": 35
        },
        "outputId": "acd4a91e-35e5-4a98-99d5-38059511e0bc"
      },
      "source": [
        "apple_month['Volume'].loc['2014-06':'2014-06'].sum()"
      ],
      "execution_count": 200,
      "outputs": [
        {
          "output_type": "execute_result",
          "data": {
            "text/plain": [
              "1206556300"
            ]
          },
          "metadata": {
            "tags": []
          },
          "execution_count": 200
        }
      ]
    }
  ]
}