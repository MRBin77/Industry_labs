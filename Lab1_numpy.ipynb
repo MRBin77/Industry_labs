{
  "nbformat": 4,
  "nbformat_minor": 0,
  "metadata": {
    "colab": {
      "name": "Lab1_numpy.ipynb",
      "provenance": [],
      "collapsed_sections": [],
      "authorship_tag": "ABX9TyM7yGPqNFUUHpco3V/FiDCg",
      "include_colab_link": true
    },
    "kernelspec": {
      "name": "python3",
      "display_name": "Python 3"
    }
  },
  "cells": [
    {
      "cell_type": "markdown",
      "metadata": {
        "id": "view-in-github",
        "colab_type": "text"
      },
      "source": [
        "<a href=\"https://colab.research.google.com/github/MRBin77/Industry_labs/blob/master/Lab1_numpy.ipynb\" target=\"_parent\"><img src=\"https://colab.research.google.com/assets/colab-badge.svg\" alt=\"Open In Colab\"/></a>"
      ]
    },
    {
      "cell_type": "markdown",
      "metadata": {
        "id": "UzV3aVlzcOug",
        "colab_type": "text"
      },
      "source": [
        "Создайте массив: из 10 нулей, из 10 единиц, из 10 5."
      ]
    },
    {
      "cell_type": "code",
      "metadata": {
        "id": "po90NU5McRpR",
        "colab_type": "code",
        "colab": {}
      },
      "source": [
        "import numpy as np"
      ],
      "execution_count": 0,
      "outputs": []
    },
    {
      "cell_type": "code",
      "metadata": {
        "id": "kZ0QnBP_ctZE",
        "colab_type": "code",
        "colab": {}
      },
      "source": [
        "x0 = np.zeros(10)\n",
        "x1 = np.ones(10)\n",
        "x5 = np.full(10,5)"
      ],
      "execution_count": 0,
      "outputs": []
    },
    {
      "cell_type": "code",
      "metadata": {
        "id": "D1iBYWS0c1V4",
        "colab_type": "code",
        "outputId": "0e4fbced-4632-412d-b097-a986b8874f09",
        "colab": {
          "base_uri": "https://localhost:8080/",
          "height": 72
        }
      },
      "source": [
        "print(x0,'\\n',x1,'\\n',x5)"
      ],
      "execution_count": 0,
      "outputs": [
        {
          "output_type": "stream",
          "text": [
            "[0. 0. 0. 0. 0. 0. 0. 0. 0. 0.] \n",
            " [1. 1. 1. 1. 1. 1. 1. 1. 1. 1.] \n",
            " [5 5 5 5 5 5 5 5 5 5]\n"
          ],
          "name": "stdout"
        }
      ]
    },
    {
      "cell_type": "markdown",
      "metadata": {
        "id": "SVaIDm56kUZt",
        "colab_type": "text"
      },
      "source": [
        "2.Присвойте некоторым из элементов массива NaN (numpy.nan)"
      ]
    },
    {
      "cell_type": "code",
      "metadata": {
        "id": "3P0ahopAoWkR",
        "colab_type": "code",
        "outputId": "69e89495-027f-4542-f489-6ad69e70575f",
        "colab": {
          "base_uri": "https://localhost:8080/",
          "height": 35
        }
      },
      "source": [
        "x5 = x5.astype('float')\n",
        "x5[1:4]=np.nan\n",
        "x5"
      ],
      "execution_count": 0,
      "outputs": [
        {
          "output_type": "execute_result",
          "data": {
            "text/plain": [
              "array([ 5., nan, nan, nan,  5.,  5.,  5.,  5.,  5.,  5.])"
            ]
          },
          "metadata": {
            "tags": []
          },
          "execution_count": 260
        }
      ]
    },
    {
      "cell_type": "markdown",
      "metadata": {
        "id": "KpUjJF21ou6i",
        "colab_type": "text"
      },
      "source": [
        "3.Осуществите проверку того, что:\n",
        "\n",
        "a.ни один из элементов массива не равен нулю;\n",
        "\n",
        "b.является ли любой из элементов данного массива ненулевым.\n"
      ]
    },
    {
      "cell_type": "code",
      "metadata": {
        "id": "v93Vu8xUoXmX",
        "colab_type": "code",
        "outputId": "d2e0292a-47e7-4760-a023-aa015fa39bdc",
        "colab": {
          "base_uri": "https://localhost:8080/",
          "height": 35
        }
      },
      "source": [
        "# a.\n",
        "x5.all()"
      ],
      "execution_count": 0,
      "outputs": [
        {
          "output_type": "execute_result",
          "data": {
            "text/plain": [
              "True"
            ]
          },
          "metadata": {
            "tags": []
          },
          "execution_count": 253
        }
      ]
    },
    {
      "cell_type": "code",
      "metadata": {
        "id": "vUEUyNEFvBs3",
        "colab_type": "code",
        "outputId": "b24429b1-f749-416e-a7c1-4ef283aa7f9a",
        "colab": {
          "base_uri": "https://localhost:8080/",
          "height": 35
        }
      },
      "source": [
        "# b.\n",
        "x5[1:4]=0\n",
        "x5.any()"
      ],
      "execution_count": 0,
      "outputs": [
        {
          "output_type": "execute_result",
          "data": {
            "text/plain": [
              "True"
            ]
          },
          "metadata": {
            "tags": []
          },
          "execution_count": 256
        }
      ]
    },
    {
      "cell_type": "markdown",
      "metadata": {
        "id": "xnbJU8Fz4gto",
        "colab_type": "text"
      },
      "source": [
        "4. Проверьте все элементы массива на наличие комплексных чисел, действительных чисел, \n",
        "а также на наличие NaN (numpy.nan) \n",
        "(в цикле, а также с использованием numpy.iscomplex, numpy.isreal, np.isnan)."
      ]
    },
    {
      "cell_type": "code",
      "metadata": {
        "id": "F-FzeysUprG-",
        "colab_type": "code",
        "outputId": "9a7907a0-6704-49b0-9c29-4891856dfdbf",
        "colab": {
          "base_uri": "https://localhost:8080/",
          "height": 201
        }
      },
      "source": [
        "for i in x5:\n",
        "  if np.isnan(i)==False or np.iscomplex(i)==False or np.isreal(i)==True:\n",
        "    print(i)"
      ],
      "execution_count": 0,
      "outputs": [
        {
          "output_type": "stream",
          "text": [
            "5\n",
            "5\n",
            "5\n",
            "5\n",
            "5\n",
            "5\n",
            "5\n",
            "5\n",
            "5\n",
            "5\n"
          ],
          "name": "stdout"
        }
      ]
    },
    {
      "cell_type": "markdown",
      "metadata": {
        "id": "xFQ5Dn9p60O6",
        "colab_type": "text"
      },
      "source": [
        "5. Создайте единичную матрицу и выведите ее размерность (с использованием numpy.eye)."
      ]
    },
    {
      "cell_type": "code",
      "metadata": {
        "id": "gMmCYXvkrFF-",
        "colab_type": "code",
        "outputId": "59aec9f3-8af9-4041-d89f-43543b3cf6b1",
        "colab": {
          "base_uri": "https://localhost:8080/",
          "height": 35
        }
      },
      "source": [
        "array = np.eye(5)\n",
        "array.shape"
      ],
      "execution_count": 0,
      "outputs": [
        {
          "output_type": "execute_result",
          "data": {
            "text/plain": [
              "(5, 5)"
            ]
          },
          "metadata": {
            "tags": []
          },
          "execution_count": 286
        }
      ]
    },
    {
      "cell_type": "markdown",
      "metadata": {
        "id": "vJ1t1wP78ku4",
        "colab_type": "text"
      },
      "source": [
        "6. Вычислите сумму всех элементов, сумму элементов каждого столбца и сумму элементов каждой строки заданного массива."
      ]
    },
    {
      "cell_type": "code",
      "metadata": {
        "id": "1BP7Y4Dq8kSc",
        "colab_type": "code",
        "outputId": "3e6bed50-6467-4092-cc0d-57249a65dd23",
        "colab": {
          "base_uri": "https://localhost:8080/",
          "height": 90
        }
      },
      "source": [
        "array = np.arange(16).reshape(4,4)\n",
        "array"
      ],
      "execution_count": 0,
      "outputs": [
        {
          "output_type": "execute_result",
          "data": {
            "text/plain": [
              "array([[ 0,  1,  2,  3],\n",
              "       [ 4,  5,  6,  7],\n",
              "       [ 8,  9, 10, 11],\n",
              "       [12, 13, 14, 15]])"
            ]
          },
          "metadata": {
            "tags": []
          },
          "execution_count": 340
        }
      ]
    },
    {
      "cell_type": "code",
      "metadata": {
        "id": "PDfcP1ydBUrR",
        "colab_type": "code",
        "outputId": "e79a5d54-d4fd-4106-b776-5e741a9f4205",
        "colab": {
          "base_uri": "https://localhost:8080/",
          "height": 35
        }
      },
      "source": [
        "m = sum(array)\n",
        "m"
      ],
      "execution_count": 0,
      "outputs": [
        {
          "output_type": "execute_result",
          "data": {
            "text/plain": [
              "array([24, 28, 32, 36])"
            ]
          },
          "metadata": {
            "tags": []
          },
          "execution_count": 344
        }
      ]
    },
    {
      "cell_type": "code",
      "metadata": {
        "id": "OIjHpm_47VtO",
        "colab_type": "code",
        "outputId": "e008d0e4-a9e2-4387-e0e3-be6ef877d4fe",
        "colab": {
          "base_uri": "https://localhost:8080/",
          "height": 35
        }
      },
      "source": [
        "n = array.sum(axis = 1)\n",
        "n"
      ],
      "execution_count": 0,
      "outputs": [
        {
          "output_type": "execute_result",
          "data": {
            "text/plain": [
              "array([ 6, 22, 38, 54])"
            ]
          },
          "metadata": {
            "tags": []
          },
          "execution_count": 345
        }
      ]
    },
    {
      "cell_type": "code",
      "metadata": {
        "id": "UMRIs5qysYEF",
        "colab_type": "code",
        "outputId": "f28453c7-33c9-47cd-994c-21cc35ae5005",
        "colab": {
          "base_uri": "https://localhost:8080/",
          "height": 35
        }
      },
      "source": [
        "sum(n+m) "
      ],
      "execution_count": 0,
      "outputs": [
        {
          "output_type": "execute_result",
          "data": {
            "text/plain": [
              "240"
            ]
          },
          "metadata": {
            "tags": []
          },
          "execution_count": 358
        }
      ]
    },
    {
      "cell_type": "markdown",
      "metadata": {
        "id": "LqvF4vIwIzS2",
        "colab_type": "text"
      },
      "source": [
        "7.Вычислите скалярное произведение двух векторов (с использованием numpy.dot)."
      ]
    },
    {
      "cell_type": "code",
      "metadata": {
        "id": "ZEbaQ_sRIsQ9",
        "colab_type": "code",
        "outputId": "1650b46f-2710-45b7-d843-b6ce401fd139",
        "colab": {
          "base_uri": "https://localhost:8080/",
          "height": 35
        }
      },
      "source": [
        "A = np.arange(11)\n",
        "B = np.arange(11)\n",
        "np.dot(A,B)"
      ],
      "execution_count": 0,
      "outputs": [
        {
          "output_type": "execute_result",
          "data": {
            "text/plain": [
              "385"
            ]
          },
          "metadata": {
            "tags": []
          },
          "execution_count": 365
        }
      ]
    },
    {
      "cell_type": "markdown",
      "metadata": {
        "id": "oKiY0QU9Jz9f",
        "colab_type": "text"
      },
      "source": [
        "8.Задайте координаты x и вычислите координаты у точек на синусоидальной кривой. Постройте график."
      ]
    },
    {
      "cell_type": "code",
      "metadata": {
        "id": "QonyTAexqPzh",
        "colab_type": "code",
        "colab": {}
      },
      "source": [
        "import matplotlib.pyplot as plt"
      ],
      "execution_count": 0,
      "outputs": []
    },
    {
      "cell_type": "code",
      "metadata": {
        "id": "CwNdlNM6ONRv",
        "colab_type": "code",
        "outputId": "35dd05ba-8616-4134-dd0e-49e2f70d294c",
        "colab": {
          "base_uri": "https://localhost:8080/",
          "height": 295
        }
      },
      "source": [
        "x = np.arange(0, 10, 0.5)\n",
        "y = np.sin(x)\n",
        "\n",
        "fig, ax = plt.subplots()\n",
        "ax.plot(x, y)\n",
        "\n",
        "ax.set(xlabel='x', ylabel='y', title='y = sin(x)')\n",
        "ax.grid()\n",
        "\n",
        "plt.show()"
      ],
      "execution_count": 0,
      "outputs": [
        {
          "output_type": "display_data",
          "data": {
            "image/png": "[encoded data removed]",
            "text/plain": [
              "<Figure size 432x288 with 1 Axes>"
            ]
          },
          "metadata": {
            "tags": [],
            "needs_background": "light"
          }
        }
      ]
    },
    {
      "cell_type": "code",
      "metadata": {
        "id": "X4R1G_CbOcXv",
        "colab_type": "code",
        "outputId": "fa0a2628-702f-43de-f284-1f6263aec05a",
        "colab": {
          "base_uri": "https://localhost:8080/",
          "height": 90
        }
      },
      "source": [
        "y"
      ],
      "execution_count": 0,
      "outputs": [
        {
          "output_type": "execute_result",
          "data": {
            "text/plain": [
              "array([ 0.        ,  0.47942554,  0.84147098,  0.99749499,  0.90929743,\n",
              "        0.59847214,  0.14112001, -0.35078323, -0.7568025 , -0.97753012,\n",
              "       -0.95892427, -0.70554033, -0.2794155 ,  0.21511999,  0.6569866 ,\n",
              "        0.93799998,  0.98935825,  0.79848711,  0.41211849, -0.07515112])"
            ]
          },
          "metadata": {
            "tags": []
          },
          "execution_count": 389
        }
      ]
    },
    {
      "cell_type": "markdown",
      "metadata": {
        "id": "aG5gNwibnOGE",
        "colab_type": "text"
      },
      "source": [
        "9. Отсортируйте заданный массив размерности 2х2 вдоль первой оси, второй оси, а также развернутый (flattened) массив.\n"
      ]
    },
    {
      "cell_type": "code",
      "metadata": {
        "id": "dMY6lc6_O9AO",
        "colab_type": "code",
        "outputId": "cc0382e3-61f5-47f8-a0d9-18b833807ba9",
        "colab": {
          "base_uri": "https://localhost:8080/",
          "height": 54
        }
      },
      "source": [
        "array = np.array([[10,40],[30,20]])\n",
        "array"
      ],
      "execution_count": 0,
      "outputs": [
        {
          "output_type": "execute_result",
          "data": {
            "text/plain": [
              "array([[10, 40],\n",
              "       [30, 20]])"
            ]
          },
          "metadata": {
            "tags": []
          },
          "execution_count": 424
        }
      ]
    },
    {
      "cell_type": "code",
      "metadata": {
        "id": "5ssaLF5GoR8z",
        "colab_type": "code",
        "outputId": "fa71d1c2-4179-4b33-a04e-1c24caf50784",
        "colab": {
          "base_uri": "https://localhost:8080/",
          "height": 54
        }
      },
      "source": [
        "np.sort(array,axis=0)"
      ],
      "execution_count": 0,
      "outputs": [
        {
          "output_type": "execute_result",
          "data": {
            "text/plain": [
              "array([[10, 20],\n",
              "       [30, 40]])"
            ]
          },
          "metadata": {
            "tags": []
          },
          "execution_count": 431
        }
      ]
    },
    {
      "cell_type": "code",
      "metadata": {
        "id": "Jp-KC5CPo4wE",
        "colab_type": "code",
        "outputId": "6f695b0f-049d-4253-c0a9-81b914b3e333",
        "colab": {
          "base_uri": "https://localhost:8080/",
          "height": 35
        }
      },
      "source": [
        "np.sort(array.flatten())"
      ],
      "execution_count": 0,
      "outputs": [
        {
          "output_type": "execute_result",
          "data": {
            "text/plain": [
              "array([10, 20, 30, 40])"
            ]
          },
          "metadata": {
            "tags": []
          },
          "execution_count": 433
        }
      ]
    },
    {
      "cell_type": "markdown",
      "metadata": {
        "id": "UFjxe3rntREQ",
        "colab_type": "text"
      },
      "source": [
        "10. Получите индексы отсортированных элементов заданного массива.\n",
        "Input: [1023 5202 6230 1671 1682 5241 4532]\n",
        "Output: [0 3 4 6 1 5 2]\n"
      ]
    },
    {
      "cell_type": "code",
      "metadata": {
        "id": "ShJpukmfo-ef",
        "colab_type": "code",
        "outputId": "f5fe3a87-9fa1-4382-cbf0-4b7cae3eccb4",
        "colab": {
          "base_uri": "https://localhost:8080/",
          "height": 35
        }
      },
      "source": [
        "array1 = np.array([1023, 5202, 6230, 1671, 1682, 5241, 4532])\n",
        "np.argsort(array1)"
      ],
      "execution_count": 0,
      "outputs": [
        {
          "output_type": "execute_result",
          "data": {
            "text/plain": [
              "array([0, 3, 4, 6, 1, 5, 2])"
            ]
          },
          "metadata": {
            "tags": []
          },
          "execution_count": 441
        }
      ]
    },
    {
      "cell_type": "markdown",
      "metadata": {
        "id": "Foo5Wu41uJQ2",
        "colab_type": "text"
      },
      "source": [
        "11. Сохраните два заданных массива в один файл в сжатом формате (.npz) и загрузите данные из него (с использованием numpy.load и numpy.savez)."
      ]
    },
    {
      "cell_type": "code",
      "metadata": {
        "id": "Jd7rxs_-tpgt",
        "colab_type": "code",
        "colab": {}
      },
      "source": [
        "from tempfile import TemporaryFile"
      ],
      "execution_count": 0,
      "outputs": []
    },
    {
      "cell_type": "code",
      "metadata": {
        "id": "D4FyF4V5tyrT",
        "colab_type": "code",
        "colab": {}
      },
      "source": [
        "outfile = TemporaryFile()\n",
        "np.savez(outfile, array, array1)\n",
        "_ = outfile.seek(0)"
      ],
      "execution_count": 0,
      "outputs": []
    },
    {
      "cell_type": "code",
      "metadata": {
        "id": "-k6Liv7zvJ1N",
        "colab_type": "code",
        "outputId": "3e9e1734-12d8-4f12-a026-8204e0b821e8",
        "colab": {
          "base_uri": "https://localhost:8080/",
          "height": 35
        }
      },
      "source": [
        "npzfile = np.load(outfile)\n",
        "npzfile.files"
      ],
      "execution_count": 0,
      "outputs": [
        {
          "output_type": "execute_result",
          "data": {
            "text/plain": [
              "['arr_0', 'arr_1']"
            ]
          },
          "metadata": {
            "tags": []
          },
          "execution_count": 448
        }
      ]
    },
    {
      "cell_type": "code",
      "metadata": {
        "id": "VU2tEHNCvZoM",
        "colab_type": "code",
        "outputId": "de3479fb-8d71-4239-f4c9-65565f9947d8",
        "colab": {
          "base_uri": "https://localhost:8080/",
          "height": 35
        }
      },
      "source": [
        "npzfile['arr_0']"
      ],
      "execution_count": 0,
      "outputs": [
        {
          "output_type": "execute_result",
          "data": {
            "text/plain": [
              "array([1023, 5202, 6230, 1671, 1682, 5241, 4532])"
            ]
          },
          "metadata": {
            "tags": []
          },
          "execution_count": 449
        }
      ]
    },
    {
      "cell_type": "markdown",
      "metadata": {
        "id": "aOE-NSZowPY_",
        "colab_type": "text"
      },
      "source": [
        "12. Создайте массив размерности 5х5, заполненный случайными значениями, и выведите максимальное и минимальное значения"
      ]
    },
    {
      "cell_type": "code",
      "metadata": {
        "id": "1zV1pQw3vpAe",
        "colab_type": "code",
        "outputId": "1679df0b-2b10-4678-ba86-00692cab1281",
        "colab": {
          "base_uri": "https://localhost:8080/",
          "height": 146
        }
      },
      "source": [
        "array = np.random.rand(5,5)\n",
        "print(array, '\\n', array.max(), '\\n', array.min())"
      ],
      "execution_count": 0,
      "outputs": [
        {
          "output_type": "stream",
          "text": [
            "[[0.35466024 0.15318485 0.50414845 0.46742446 0.7361793 ]\n",
            " [0.61133739 0.14541175 0.89292321 0.2887799  0.17405915]\n",
            " [0.40454432 0.10359086 0.79692255 0.74176169 0.52761655]\n",
            " [0.24280285 0.92928084 0.83540632 0.49439486 0.56810775]\n",
            " [0.35236477 0.05038776 0.30552716 0.5925579  0.46479162]] \n",
            " 0.9292808383941821 \n",
            " 0.05038775596798839\n"
          ],
          "name": "stdout"
        }
      ]
    },
    {
      "cell_type": "markdown",
      "metadata": {
        "id": "QgP2LfOqxa9R",
        "colab_type": "text"
      },
      "source": [
        "13. Нормализуйте матрицу размерности 3х3, заполненную случайными значениями.\n"
      ]
    },
    {
      "cell_type": "code",
      "metadata": {
        "id": "clC5vr39xZXq",
        "colab_type": "code",
        "outputId": "65a6599f-12b4-4727-f825-ddc107745952",
        "colab": {
          "base_uri": "https://localhost:8080/",
          "height": 35
        }
      },
      "source": [
        "array = np.random.rand(3,3)\n",
        "np.linalg.norm(array)"
      ],
      "execution_count": 0,
      "outputs": [
        {
          "output_type": "execute_result",
          "data": {
            "text/plain": [
              "1.7585935512966144"
            ]
          },
          "metadata": {
            "tags": []
          },
          "execution_count": 460
        }
      ]
    },
    {
      "cell_type": "markdown",
      "metadata": {
        "id": "DcIk9TcmzfQz",
        "colab_type": "text"
      },
      "source": [
        "14. Найдите ближайшее значение в массиве для некоторой заданной величины (с использованием numpy.argmin)."
      ]
    },
    {
      "cell_type": "code",
      "metadata": {
        "id": "pUxxZynU0KVp",
        "colab_type": "code",
        "outputId": "b8e7966f-d3c2-4eb2-af27-070db693bdd2",
        "colab": {
          "base_uri": "https://localhost:8080/",
          "height": 35
        }
      },
      "source": [
        "array = np.array([10,8,4,3,2,6,9,1,7,5])\n",
        "value = np.random.uniform(0,10)\n",
        "index = (np.abs(array-value)).argmin()\n",
        "print(array[index])"
      ],
      "execution_count": 0,
      "outputs": [
        {
          "output_type": "stream",
          "text": [
            "5\n"
          ],
          "name": "stdout"
        }
      ]
    },
    {
      "cell_type": "markdown",
      "metadata": {
        "id": "MgzLcRuS3W2U",
        "colab_type": "text"
      },
      "source": [
        "15. Вычислите детерминант заданной матрицы.\n",
        "[[1 2]\n",
        " [3 4]]\n"
      ]
    },
    {
      "cell_type": "code",
      "metadata": {
        "id": "AkDctUjl0owL",
        "colab_type": "code",
        "outputId": "c8bafeae-df79-4c02-ba99-3035809c6a16",
        "colab": {
          "base_uri": "https://localhost:8080/",
          "height": 35
        }
      },
      "source": [
        "array = np.array([[1,2],[3,4]])\n",
        "np.linalg.det(array)"
      ],
      "execution_count": 0,
      "outputs": [
        {
          "output_type": "execute_result",
          "data": {
            "text/plain": [
              "-2.0000000000000004"
            ]
          },
          "metadata": {
            "tags": []
          },
          "execution_count": 509
        }
      ]
    }
  ]
}