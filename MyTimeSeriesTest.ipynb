{
 "cells": [
  {
   "cell_type": "code",
   "execution_count": 4,
   "metadata": {},
   "outputs": [],
   "source": [
    "import pandas as pd\n",
    "from dbnomics import fetch_series, fetch_series_by_api_link"
   ]
  },
  {
   "cell_type": "code",
   "execution_count": 5,
   "metadata": {},
   "outputs": [],
   "source": [
    "df = fetch_series('AMECO/ZUTN/EA19.1.0.0.0.ZUTN')"
   ]
  },
  {
   "cell_type": "code",
   "execution_count": 6,
   "metadata": {},
   "outputs": [
    {
     "data": {
      "text/html": [
       "<div>\n",
       "<style scoped>\n",
       "    .dataframe tbody tr th:only-of-type {\n",
       "        vertical-align: middle;\n",
       "    }\n",
       "\n",
       "    .dataframe tbody tr th {\n",
       "        vertical-align: top;\n",
       "    }\n",
       "\n",
       "    .dataframe thead th {\n",
       "        text-align: right;\n",
       "    }\n",
       "</style>\n",
       "<table border=\"1\" class=\"dataframe\">\n",
       "  <thead>\n",
       "    <tr style=\"text-align: right;\">\n",
       "      <th></th>\n",
       "      <th>@frequency</th>\n",
       "      <th>provider_code</th>\n",
       "      <th>dataset_code</th>\n",
       "      <th>dataset_name</th>\n",
       "      <th>series_code</th>\n",
       "      <th>series_name</th>\n",
       "      <th>original_period</th>\n",
       "      <th>period</th>\n",
       "      <th>original_value</th>\n",
       "      <th>value</th>\n",
       "      <th>freq</th>\n",
       "      <th>unit</th>\n",
       "      <th>geo</th>\n",
       "      <th>Frequency</th>\n",
       "      <th>Unit</th>\n",
       "      <th>Country</th>\n",
       "    </tr>\n",
       "  </thead>\n",
       "  <tbody>\n",
       "    <tr>\n",
       "      <th>37</th>\n",
       "      <td>annual</td>\n",
       "      <td>AMECO</td>\n",
       "      <td>ZUTN</td>\n",
       "      <td>Unemployment rate: total :- Member States: def...</td>\n",
       "      <td>EA19.1.0.0.0.ZUTN</td>\n",
       "      <td>Annually – (Percentage of active population) –...</td>\n",
       "      <td>1997</td>\n",
       "      <td>1997-01-01</td>\n",
       "      <td>11.5</td>\n",
       "      <td>11.5</td>\n",
       "      <td>a</td>\n",
       "      <td>percentage-of-active-population</td>\n",
       "      <td>ea19</td>\n",
       "      <td>Annually</td>\n",
       "      <td>(Percentage of active population)</td>\n",
       "      <td>Euro area</td>\n",
       "    </tr>\n",
       "    <tr>\n",
       "      <th>38</th>\n",
       "      <td>annual</td>\n",
       "      <td>AMECO</td>\n",
       "      <td>ZUTN</td>\n",
       "      <td>Unemployment rate: total :- Member States: def...</td>\n",
       "      <td>EA19.1.0.0.0.ZUTN</td>\n",
       "      <td>Annually – (Percentage of active population) –...</td>\n",
       "      <td>1998</td>\n",
       "      <td>1998-01-01</td>\n",
       "      <td>11</td>\n",
       "      <td>11.0</td>\n",
       "      <td>a</td>\n",
       "      <td>percentage-of-active-population</td>\n",
       "      <td>ea19</td>\n",
       "      <td>Annually</td>\n",
       "      <td>(Percentage of active population)</td>\n",
       "      <td>Euro area</td>\n",
       "    </tr>\n",
       "    <tr>\n",
       "      <th>39</th>\n",
       "      <td>annual</td>\n",
       "      <td>AMECO</td>\n",
       "      <td>ZUTN</td>\n",
       "      <td>Unemployment rate: total :- Member States: def...</td>\n",
       "      <td>EA19.1.0.0.0.ZUTN</td>\n",
       "      <td>Annually – (Percentage of active population) –...</td>\n",
       "      <td>1999</td>\n",
       "      <td>1999-01-01</td>\n",
       "      <td>10.2</td>\n",
       "      <td>10.2</td>\n",
       "      <td>a</td>\n",
       "      <td>percentage-of-active-population</td>\n",
       "      <td>ea19</td>\n",
       "      <td>Annually</td>\n",
       "      <td>(Percentage of active population)</td>\n",
       "      <td>Euro area</td>\n",
       "    </tr>\n",
       "    <tr>\n",
       "      <th>40</th>\n",
       "      <td>annual</td>\n",
       "      <td>AMECO</td>\n",
       "      <td>ZUTN</td>\n",
       "      <td>Unemployment rate: total :- Member States: def...</td>\n",
       "      <td>EA19.1.0.0.0.ZUTN</td>\n",
       "      <td>Annually – (Percentage of active population) –...</td>\n",
       "      <td>2000</td>\n",
       "      <td>2000-01-01</td>\n",
       "      <td>9.2</td>\n",
       "      <td>9.2</td>\n",
       "      <td>a</td>\n",
       "      <td>percentage-of-active-population</td>\n",
       "      <td>ea19</td>\n",
       "      <td>Annually</td>\n",
       "      <td>(Percentage of active population)</td>\n",
       "      <td>Euro area</td>\n",
       "    </tr>\n",
       "    <tr>\n",
       "      <th>41</th>\n",
       "      <td>annual</td>\n",
       "      <td>AMECO</td>\n",
       "      <td>ZUTN</td>\n",
       "      <td>Unemployment rate: total :- Member States: def...</td>\n",
       "      <td>EA19.1.0.0.0.ZUTN</td>\n",
       "      <td>Annually – (Percentage of active population) –...</td>\n",
       "      <td>2001</td>\n",
       "      <td>2001-01-01</td>\n",
       "      <td>8.4</td>\n",
       "      <td>8.4</td>\n",
       "      <td>a</td>\n",
       "      <td>percentage-of-active-population</td>\n",
       "      <td>ea19</td>\n",
       "      <td>Annually</td>\n",
       "      <td>(Percentage of active population)</td>\n",
       "      <td>Euro area</td>\n",
       "    </tr>\n",
       "  </tbody>\n",
       "</table>\n",
       "</div>"
      ],
      "text/plain": [
       "   @frequency provider_code dataset_code  \\\n",
       "37     annual         AMECO         ZUTN   \n",
       "38     annual         AMECO         ZUTN   \n",
       "39     annual         AMECO         ZUTN   \n",
       "40     annual         AMECO         ZUTN   \n",
       "41     annual         AMECO         ZUTN   \n",
       "\n",
       "                                         dataset_name        series_code  \\\n",
       "37  Unemployment rate: total :- Member States: def...  EA19.1.0.0.0.ZUTN   \n",
       "38  Unemployment rate: total :- Member States: def...  EA19.1.0.0.0.ZUTN   \n",
       "39  Unemployment rate: total :- Member States: def...  EA19.1.0.0.0.ZUTN   \n",
       "40  Unemployment rate: total :- Member States: def...  EA19.1.0.0.0.ZUTN   \n",
       "41  Unemployment rate: total :- Member States: def...  EA19.1.0.0.0.ZUTN   \n",
       "\n",
       "                                          series_name original_period  \\\n",
       "37  Annually – (Percentage of active population) –...            1997   \n",
       "38  Annually – (Percentage of active population) –...            1998   \n",
       "39  Annually – (Percentage of active population) –...            1999   \n",
       "40  Annually – (Percentage of active population) –...            2000   \n",
       "41  Annually – (Percentage of active population) –...            2001   \n",
       "\n",
       "       period original_value  value freq                             unit  \\\n",
       "37 1997-01-01           11.5   11.5    a  percentage-of-active-population   \n",
       "38 1998-01-01             11   11.0    a  percentage-of-active-population   \n",
       "39 1999-01-01           10.2   10.2    a  percentage-of-active-population   \n",
       "40 2000-01-01            9.2    9.2    a  percentage-of-active-population   \n",
       "41 2001-01-01            8.4    8.4    a  percentage-of-active-population   \n",
       "\n",
       "     geo Frequency                               Unit    Country  \n",
       "37  ea19  Annually  (Percentage of active population)  Euro area  \n",
       "38  ea19  Annually  (Percentage of active population)  Euro area  \n",
       "39  ea19  Annually  (Percentage of active population)  Euro area  \n",
       "40  ea19  Annually  (Percentage of active population)  Euro area  \n",
       "41  ea19  Annually  (Percentage of active population)  Euro area  "
      ]
     },
     "execution_count": 6,
     "metadata": {},
     "output_type": "execute_result"
    }
   ],
   "source": [
    "df = df.dropna()\n",
    "df.head()"
   ]
  },
  {
   "cell_type": "code",
   "execution_count": 12,
   "metadata": {},
   "outputs": [],
   "source": [
    "# settings\n",
    "alpha = 0.05"
   ]
  },
  {
   "cell_type": "markdown",
   "metadata": {},
   "source": [
    "## Стационарный временной ряд"
   ]
  },
  {
   "cell_type": "code",
   "execution_count": 18,
   "metadata": {},
   "outputs": [],
   "source": [
    "import numpy as np\n",
    "import matplotlib.pyplot as plt\n",
    "%matplotlib inline"
   ]
  },
  {
   "cell_type": "code",
   "execution_count": 19,
   "metadata": {},
   "outputs": [],
   "source": [
    "from statsmodels.tsa.seasonal import seasonal_decompose\n",
    "from statsmodels.stats.stattools import jarque_bera\n",
    "from scipy import stats\n",
    "from statsmodels.iolib.table import SimpleTable"
   ]
  },
  {
   "cell_type": "code",
   "execution_count": 20,
   "metadata": {},
   "outputs": [],
   "source": [
    "import itertools"
   ]
  },
  {
   "cell_type": "code",
   "execution_count": 21,
   "metadata": {},
   "outputs": [
    {
     "data": {
      "text/html": [
       "<div>\n",
       "<style scoped>\n",
       "    .dataframe tbody tr th:only-of-type {\n",
       "        vertical-align: middle;\n",
       "    }\n",
       "\n",
       "    .dataframe tbody tr th {\n",
       "        vertical-align: top;\n",
       "    }\n",
       "\n",
       "    .dataframe thead th {\n",
       "        text-align: right;\n",
       "    }\n",
       "</style>\n",
       "<table border=\"1\" class=\"dataframe\">\n",
       "  <thead>\n",
       "    <tr style=\"text-align: right;\">\n",
       "      <th></th>\n",
       "      <th>@frequency</th>\n",
       "      <th>provider_code</th>\n",
       "      <th>dataset_code</th>\n",
       "      <th>dataset_name</th>\n",
       "      <th>series_code</th>\n",
       "      <th>series_name</th>\n",
       "      <th>original_period</th>\n",
       "      <th>original_value</th>\n",
       "      <th>value</th>\n",
       "      <th>freq</th>\n",
       "      <th>unit</th>\n",
       "      <th>geo</th>\n",
       "      <th>Frequency</th>\n",
       "      <th>Unit</th>\n",
       "      <th>Country</th>\n",
       "    </tr>\n",
       "    <tr>\n",
       "      <th>period</th>\n",
       "      <th></th>\n",
       "      <th></th>\n",
       "      <th></th>\n",
       "      <th></th>\n",
       "      <th></th>\n",
       "      <th></th>\n",
       "      <th></th>\n",
       "      <th></th>\n",
       "      <th></th>\n",
       "      <th></th>\n",
       "      <th></th>\n",
       "      <th></th>\n",
       "      <th></th>\n",
       "      <th></th>\n",
       "      <th></th>\n",
       "    </tr>\n",
       "  </thead>\n",
       "  <tbody>\n",
       "    <tr>\n",
       "      <th>1997-01-01</th>\n",
       "      <td>annual</td>\n",
       "      <td>AMECO</td>\n",
       "      <td>ZUTN</td>\n",
       "      <td>Unemployment rate: total :- Member States: def...</td>\n",
       "      <td>EA19.1.0.0.0.ZUTN</td>\n",
       "      <td>Annually – (Percentage of active population) –...</td>\n",
       "      <td>1997</td>\n",
       "      <td>11.5</td>\n",
       "      <td>11.5</td>\n",
       "      <td>a</td>\n",
       "      <td>percentage-of-active-population</td>\n",
       "      <td>ea19</td>\n",
       "      <td>Annually</td>\n",
       "      <td>(Percentage of active population)</td>\n",
       "      <td>Euro area</td>\n",
       "    </tr>\n",
       "    <tr>\n",
       "      <th>1998-01-01</th>\n",
       "      <td>annual</td>\n",
       "      <td>AMECO</td>\n",
       "      <td>ZUTN</td>\n",
       "      <td>Unemployment rate: total :- Member States: def...</td>\n",
       "      <td>EA19.1.0.0.0.ZUTN</td>\n",
       "      <td>Annually – (Percentage of active population) –...</td>\n",
       "      <td>1998</td>\n",
       "      <td>11</td>\n",
       "      <td>11.0</td>\n",
       "      <td>a</td>\n",
       "      <td>percentage-of-active-population</td>\n",
       "      <td>ea19</td>\n",
       "      <td>Annually</td>\n",
       "      <td>(Percentage of active population)</td>\n",
       "      <td>Euro area</td>\n",
       "    </tr>\n",
       "    <tr>\n",
       "      <th>1999-01-01</th>\n",
       "      <td>annual</td>\n",
       "      <td>AMECO</td>\n",
       "      <td>ZUTN</td>\n",
       "      <td>Unemployment rate: total :- Member States: def...</td>\n",
       "      <td>EA19.1.0.0.0.ZUTN</td>\n",
       "      <td>Annually – (Percentage of active population) –...</td>\n",
       "      <td>1999</td>\n",
       "      <td>10.2</td>\n",
       "      <td>10.2</td>\n",
       "      <td>a</td>\n",
       "      <td>percentage-of-active-population</td>\n",
       "      <td>ea19</td>\n",
       "      <td>Annually</td>\n",
       "      <td>(Percentage of active population)</td>\n",
       "      <td>Euro area</td>\n",
       "    </tr>\n",
       "    <tr>\n",
       "      <th>2000-01-01</th>\n",
       "      <td>annual</td>\n",
       "      <td>AMECO</td>\n",
       "      <td>ZUTN</td>\n",
       "      <td>Unemployment rate: total :- Member States: def...</td>\n",
       "      <td>EA19.1.0.0.0.ZUTN</td>\n",
       "      <td>Annually – (Percentage of active population) –...</td>\n",
       "      <td>2000</td>\n",
       "      <td>9.2</td>\n",
       "      <td>9.2</td>\n",
       "      <td>a</td>\n",
       "      <td>percentage-of-active-population</td>\n",
       "      <td>ea19</td>\n",
       "      <td>Annually</td>\n",
       "      <td>(Percentage of active population)</td>\n",
       "      <td>Euro area</td>\n",
       "    </tr>\n",
       "    <tr>\n",
       "      <th>2001-01-01</th>\n",
       "      <td>annual</td>\n",
       "      <td>AMECO</td>\n",
       "      <td>ZUTN</td>\n",
       "      <td>Unemployment rate: total :- Member States: def...</td>\n",
       "      <td>EA19.1.0.0.0.ZUTN</td>\n",
       "      <td>Annually – (Percentage of active population) –...</td>\n",
       "      <td>2001</td>\n",
       "      <td>8.4</td>\n",
       "      <td>8.4</td>\n",
       "      <td>a</td>\n",
       "      <td>percentage-of-active-population</td>\n",
       "      <td>ea19</td>\n",
       "      <td>Annually</td>\n",
       "      <td>(Percentage of active population)</td>\n",
       "      <td>Euro area</td>\n",
       "    </tr>\n",
       "  </tbody>\n",
       "</table>\n",
       "</div>"
      ],
      "text/plain": [
       "           @frequency provider_code dataset_code  \\\n",
       "period                                             \n",
       "1997-01-01     annual         AMECO         ZUTN   \n",
       "1998-01-01     annual         AMECO         ZUTN   \n",
       "1999-01-01     annual         AMECO         ZUTN   \n",
       "2000-01-01     annual         AMECO         ZUTN   \n",
       "2001-01-01     annual         AMECO         ZUTN   \n",
       "\n",
       "                                                 dataset_name  \\\n",
       "period                                                          \n",
       "1997-01-01  Unemployment rate: total :- Member States: def...   \n",
       "1998-01-01  Unemployment rate: total :- Member States: def...   \n",
       "1999-01-01  Unemployment rate: total :- Member States: def...   \n",
       "2000-01-01  Unemployment rate: total :- Member States: def...   \n",
       "2001-01-01  Unemployment rate: total :- Member States: def...   \n",
       "\n",
       "                  series_code  \\\n",
       "period                          \n",
       "1997-01-01  EA19.1.0.0.0.ZUTN   \n",
       "1998-01-01  EA19.1.0.0.0.ZUTN   \n",
       "1999-01-01  EA19.1.0.0.0.ZUTN   \n",
       "2000-01-01  EA19.1.0.0.0.ZUTN   \n",
       "2001-01-01  EA19.1.0.0.0.ZUTN   \n",
       "\n",
       "                                                  series_name original_period  \\\n",
       "period                                                                          \n",
       "1997-01-01  Annually – (Percentage of active population) –...            1997   \n",
       "1998-01-01  Annually – (Percentage of active population) –...            1998   \n",
       "1999-01-01  Annually – (Percentage of active population) –...            1999   \n",
       "2000-01-01  Annually – (Percentage of active population) –...            2000   \n",
       "2001-01-01  Annually – (Percentage of active population) –...            2001   \n",
       "\n",
       "           original_value  value freq                             unit   geo  \\\n",
       "period                                                                         \n",
       "1997-01-01           11.5   11.5    a  percentage-of-active-population  ea19   \n",
       "1998-01-01             11   11.0    a  percentage-of-active-population  ea19   \n",
       "1999-01-01           10.2   10.2    a  percentage-of-active-population  ea19   \n",
       "2000-01-01            9.2    9.2    a  percentage-of-active-population  ea19   \n",
       "2001-01-01            8.4    8.4    a  percentage-of-active-population  ea19   \n",
       "\n",
       "           Frequency                               Unit    Country  \n",
       "period                                                              \n",
       "1997-01-01  Annually  (Percentage of active population)  Euro area  \n",
       "1998-01-01  Annually  (Percentage of active population)  Euro area  \n",
       "1999-01-01  Annually  (Percentage of active population)  Euro area  \n",
       "2000-01-01  Annually  (Percentage of active population)  Euro area  \n",
       "2001-01-01  Annually  (Percentage of active population)  Euro area  "
      ]
     },
     "execution_count": 21,
     "metadata": {},
     "output_type": "execute_result"
    }
   ],
   "source": [
    "df.set_index('period', inplace=True)\n",
    "df.index = pd.to_datetime(df.index)\n",
    "df.head()"
   ]
  },
  {
   "cell_type": "code",
   "execution_count": 22,
   "metadata": {},
   "outputs": [],
   "source": [
    "series = df['value']\n",
    "# for series decomposition\n",
    "series.index = pd.to_datetime(series.index) "
   ]
  },
  {
   "cell_type": "markdown",
   "metadata": {},
   "source": [
    "#### Визуальная инспекция"
   ]
  },
  {
   "cell_type": "code",
   "execution_count": 23,
   "metadata": {},
   "outputs": [
    {
     "data": {
      "image/png": "[encoded data removed]",
      "text/plain": [
       "<Figure size 432x288 with 1 Axes>"
      ]
     },
     "metadata": {
      "needs_background": "light"
     },
     "output_type": "display_data"
    }
   ],
   "source": [
    "series.plot()\n",
    "plt.show()"
   ]
  },
  {
   "cell_type": "code",
   "execution_count": 24,
   "metadata": {},
   "outputs": [
    {
     "data": {
      "image/png": "[encoded data removed]",
      "text/plain": [
       "<Figure size 432x288 with 1 Axes>"
      ]
     },
     "metadata": {
      "needs_background": "light"
     },
     "output_type": "display_data"
    }
   ],
   "source": [
    "resampled_series = series.resample('A').mean()\n",
    "resampled_series.plot()\n",
    "plt.show()"
   ]
  },
  {
   "cell_type": "code",
   "execution_count": 25,
   "metadata": {},
   "outputs": [
    {
     "data": {
      "image/png": "[encoded data removed]",
      "text/plain": [
       "<Figure size 432x288 with 1 Axes>"
      ]
     },
     "metadata": {
      "needs_background": "light"
     },
     "output_type": "display_data"
    }
   ],
   "source": [
    "series.hist()\n",
    "plt.show()"
   ]
  },
  {
   "cell_type": "markdown",
   "metadata": {},
   "source": [
    " Мы видим колоколообразную форму Гауссова распределения, с  длинным правым хвостом."
   ]
  },
  {
   "cell_type": "code",
   "execution_count": 26,
   "metadata": {},
   "outputs": [
    {
     "data": {
      "text/plain": [
       "count    25.000000\n",
       "mean      9.512000\n",
       "std       1.332391\n",
       "min       7.500000\n",
       "25%       8.600000\n",
       "50%       9.200000\n",
       "75%      10.200000\n",
       "max      12.000000\n",
       "Name: value, dtype: float64"
      ]
     },
     "execution_count": 26,
     "metadata": {},
     "output_type": "execute_result"
    }
   ],
   "source": [
    "result_hist = series.describe()\n",
    "result_hist"
   ]
  },
  {
   "cell_type": "code",
   "execution_count": 27,
   "metadata": {},
   "outputs": [
    {
     "name": "stdout",
     "output_type": "stream",
     "text": [
      "V = 0.140075\n"
     ]
    }
   ],
   "source": [
    "print('V = %f' % (result_hist.loc['std'] / result_hist.loc['mean']))"
   ]
  },
  {
   "cell_type": "code",
   "execution_count": 28,
   "metadata": {},
   "outputs": [
    {
     "name": "stdout",
     "output_type": "stream",
     "text": [
      "mean1=9.116667, mean2=9.876923\n",
      "variance1=1.426389, variance2=1.683314\n"
     ]
    }
   ],
   "source": [
    "split = int(series.shape[0] / 2)\n",
    "series1, series2 = series.values[:split], series.values[split:]\n",
    "mean1, mean2 = series1.mean(), series2.mean()\n",
    "var1, var2 = series1.var(), series2.var()\n",
    "print('mean1=%f, mean2=%f' % (mean1, mean2))\n",
    "print('variance1=%f, variance2=%f' % (var1, var2))"
   ]
  },
  {
   "cell_type": "markdown",
   "metadata": {},
   "source": [
    "Пример стационарного процесса: Белый шум."
   ]
  },
  {
   "cell_type": "markdown",
   "metadata": {},
   "source": [
    "### Выделение составляющих временного ряда"
   ]
  },
  {
   "cell_type": "code",
   "execution_count": 34,
   "metadata": {},
   "outputs": [],
   "source": [
    "decomposition_result = seasonal_decompose(series)"
   ]
  },
  {
   "cell_type": "code",
   "execution_count": 35,
   "metadata": {},
   "outputs": [
    {
     "data": {
      "image/png": "[encoded data removed]",
      "text/plain": [
       "<Figure size 432x288 with 4 Axes>"
      ]
     },
     "metadata": {
      "needs_background": "light"
     },
     "output_type": "display_data"
    }
   ],
   "source": [
    "decomposition_result.plot()\n",
    "plt.show()"
   ]
  },
  {
   "cell_type": "code",
   "execution_count": 31,
   "metadata": {},
   "outputs": [
    {
     "data": {
      "image/png": "[encoded data removed]",
      "text/plain": [
       "<Figure size 432x288 with 1 Axes>"
      ]
     },
     "metadata": {
      "needs_background": "light"
     },
     "output_type": "display_data"
    }
   ],
   "source": [
    "series.plot.box()\n",
    "plt.show()"
   ]
  },
  {
   "cell_type": "markdown",
   "metadata": {},
   "source": [
    "### Статистические тесты"
   ]
  },
  {
   "cell_type": "markdown",
   "metadata": {},
   "source": [
    "#### Стационарность"
   ]
  },
  {
   "cell_type": "code",
   "execution_count": 36,
   "metadata": {},
   "outputs": [],
   "source": [
    "from statsmodels.tsa.stattools import adfuller\n",
    "from statsmodels.tsa.stattools import kpss"
   ]
  },
  {
   "cell_type": "code",
   "execution_count": 37,
   "metadata": {},
   "outputs": [
    {
     "name": "stdout",
     "output_type": "stream",
     "text": [
      "ADF Statistic: -2.016121\n",
      "p-value: 0.279550\n",
      "lags used: 0.000000\n",
      "Critical Values:\n",
      "\t1%: -3.738\n",
      "\t5%: -2.992\n",
      "\t10%: -2.636\n"
     ]
    }
   ],
   "source": [
    "adfuller_result = adfuller(series.squeeze())\n",
    "print('ADF Statistic: %f' % adfuller_result[0])\n",
    "print('p-value: %f' % adfuller_result[1])\n",
    "print('lags used: %f' % adfuller_result[2])\n",
    "print('Critical Values:')\n",
    "for key, value in adfuller_result[4].items():\n",
    "    print('\\t%s: %.3f' % (key, value))"
   ]
  },
  {
   "cell_type": "markdown",
   "metadata": {},
   "source": [
    "В качестве части выходных данных мы получаем таблицу поиска, которая помогает определить статистику ADF. Мы видим, что наше  значение -2.016121 больше чем значение -3.738, соответствующее значению p-value 1%.\n",
    "\n",
    "Это говорит о том, что мы  НЕ можем отвергнуть нулевую гипотезу с уровнем значимости менее 1% (т. е. с низкой вероятностью, что результат является статистической случайностью)."
   ]
  },
  {
   "cell_type": "code",
   "execution_count": 38,
   "metadata": {},
   "outputs": [
    {
     "name": "stdout",
     "output_type": "stream",
     "text": [
      "KPSS Statistic: 0.138536\n",
      "p-value: 0.100000\n",
      "lags used: 9.000000\n",
      "Critical Values:\n",
      "\t10%: 0.347\n",
      "\t5%: 0.463\n",
      "\t2.5%: 0.574\n",
      "\t1%: 0.739\n"
     ]
    },
    {
     "name": "stderr",
     "output_type": "stream",
     "text": [
      "C:\\ProgramData\\Anaconda3\\lib\\site-packages\\statsmodels\\tsa\\stattools.py:1709: InterpolationWarning: p-value is greater than the indicated p-value\n",
      "  warn(\"p-value is greater than the indicated p-value\", InterpolationWarning)\n"
     ]
    }
   ],
   "source": [
    "kpsstest = kpss(series.values.squeeze(), regression='c')\n",
    "print('KPSS Statistic: %f' % kpsstest[0])\n",
    "print('p-value: %f' % kpsstest[1])\n",
    "print('lags used: %f' % kpsstest[2])\n",
    "print('Critical Values:')\n",
    "for key, value in kpsstest[3].items():\n",
    "    print('\\t%s: %.3f' % (key, value))"
   ]
  },
  {
   "cell_type": "markdown",
   "metadata": {},
   "source": [
    "В соответствии с полученным значением статистики KPSS теста нулевая гипотеза о нестационарности временного ряда не отвергается."
   ]
  },
  {
   "cell_type": "code",
   "execution_count": 39,
   "metadata": {},
   "outputs": [],
   "source": [
    "from statsmodels.graphics.tsaplots import plot_acf, plot_pacf"
   ]
  },
  {
   "cell_type": "code",
   "execution_count": 40,
   "metadata": {},
   "outputs": [
    {
     "data": {
      "image/png": "[encoded data removed]",
      "text/plain": [
       "<Figure size 432x288 with 1 Axes>"
      ]
     },
     "metadata": {
      "needs_background": "light"
     },
     "output_type": "display_data"
    }
   ],
   "source": [
    "plot_acf(series.values.squeeze(), lags=9)\n",
    "plt.show()"
   ]
  },
  {
   "cell_type": "code",
   "execution_count": 41,
   "metadata": {},
   "outputs": [
    {
     "data": {
      "image/png": "[encoded data removed]",
      "text/plain": [
       "<Figure size 432x288 with 1 Axes>"
      ]
     },
     "metadata": {
      "needs_background": "light"
     },
     "output_type": "display_data"
    }
   ],
   "source": [
    "plot_pacf(series.values.squeeze(), lags=9)\n",
    "plt.show()"
   ]
  },
  {
   "cell_type": "markdown",
   "metadata": {},
   "source": [
    "#### Нормальность"
   ]
  },
  {
   "cell_type": "code",
   "execution_count": 45,
   "metadata": {},
   "outputs": [
    {
     "name": "stdout",
     "output_type": "stream",
     "text": [
      "p = 0.43743\n",
      "Нулевая гипотеза не может быть отвергнута, выборка - из нормального распределения.\n"
     ]
    }
   ],
   "source": [
    "k2, p = stats.normaltest(series)\n",
    "print(\"p = {}\".format(round(p, 5)))\n",
    "if p < alpha:  # null hypothesis: series comes from a normal distribution\n",
    "    print(\"Нулевая гипотеза может быть отвергнута.\")\n",
    "else:\n",
    "    print(\"Нулевая гипотеза не может быть отвергнута, выборка - из нормального распределения.\")"
   ]
  },
  {
   "cell_type": "markdown",
   "metadata": {},
   "source": [
    "#### Гомоскедастичность"
   ]
  },
  {
   "cell_type": "markdown",
   "metadata": {},
   "source": [
    "Levene's test является альтернативой Bartlett's test (scipy.stats.bartlett) в том случае, когда имеются значительные отклонения от нормального распределения."
   ]
  },
  {
   "cell_type": "code",
   "execution_count": 48,
   "metadata": {},
   "outputs": [
    {
     "name": "stdout",
     "output_type": "stream",
     "text": [
      "Нулевая гипотеза не может быть отвергнута - присутствует гомоскедастичность.\n"
     ]
    }
   ],
   "source": [
    "series_parts = np.array_split(series.values.squeeze(), 4)\n",
    "index_combinations = itertools.product(list(range(4)), list(range(4)))\n",
    "count_homosced = 0\n",
    "count_heterosced = 0\n",
    "for idx1, idx2 in index_combinations:\n",
    "    statistic, p = stats.levene(series_parts[idx1], series_parts[idx2])\n",
    "    if p < alpha:  # null hypothesis: all input samples are from populations with equal variances\n",
    "        count_heterosced += 1\n",
    "    else:\n",
    "        count_homosced += 1\n",
    "\n",
    "if count_homosced > count_heterosced:\n",
    "    print(\"Нулевая гипотеза не может быть отвергнута - присутствует гомоскедастичность.\")\n",
    "else:\n",
    "    print(\"Нулевая гипотеза может быть отвергнута - присутствует гетероскедастичность.\")"
   ]
  }
 ],
 "metadata": {
  "kernelspec": {
   "display_name": "Python 3",
   "language": "python",
   "name": "python3"
  },
  "language_info": {
   "codemirror_mode": {
    "name": "ipython",
    "version": 3
   },
   "file_extension": ".py",
   "mimetype": "text/x-python",
   "name": "python",
   "nbconvert_exporter": "python",
   "pygments_lexer": "ipython3",
   "version": "3.7.3"
  }
 },
 "nbformat": 4,
 "nbformat_minor": 2
}
